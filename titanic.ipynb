{
 "cells": [
  {
   "cell_type": "code",
   "execution_count": 256,
   "id": "078bd5c3",
   "metadata": {},
   "outputs": [],
   "source": [
    "#importing necessary library\n",
    "import pandas as pd\n",
    "import numpy as np\n",
    "import warnings\n",
    "warnings.filterwarnings('ignore')\n",
    "import seaborn as sns\n",
    "import matplotlib.pyplot as plt\n",
    "from scipy import stats"
   ]
  },
  {
   "cell_type": "code",
   "execution_count": 257,
   "id": "448043f3",
   "metadata": {},
   "outputs": [
    {
     "data": {
      "text/html": [
       "<div>\n",
       "<style scoped>\n",
       "    .dataframe tbody tr th:only-of-type {\n",
       "        vertical-align: middle;\n",
       "    }\n",
       "\n",
       "    .dataframe tbody tr th {\n",
       "        vertical-align: top;\n",
       "    }\n",
       "\n",
       "    .dataframe thead th {\n",
       "        text-align: right;\n",
       "    }\n",
       "</style>\n",
       "<table border=\"1\" class=\"dataframe\">\n",
       "  <thead>\n",
       "    <tr style=\"text-align: right;\">\n",
       "      <th></th>\n",
       "      <th>PassengerId</th>\n",
       "      <th>Survived</th>\n",
       "      <th>Pclass</th>\n",
       "      <th>Name</th>\n",
       "      <th>Sex</th>\n",
       "      <th>Age</th>\n",
       "      <th>SibSp</th>\n",
       "      <th>Parch</th>\n",
       "      <th>Ticket</th>\n",
       "      <th>Fare</th>\n",
       "      <th>Cabin</th>\n",
       "      <th>Embarked</th>\n",
       "    </tr>\n",
       "  </thead>\n",
       "  <tbody>\n",
       "    <tr>\n",
       "      <th>0</th>\n",
       "      <td>1</td>\n",
       "      <td>0</td>\n",
       "      <td>3</td>\n",
       "      <td>Braund, Mr. Owen Harris</td>\n",
       "      <td>male</td>\n",
       "      <td>22.0</td>\n",
       "      <td>1</td>\n",
       "      <td>0</td>\n",
       "      <td>A/5 21171</td>\n",
       "      <td>7.2500</td>\n",
       "      <td>NaN</td>\n",
       "      <td>S</td>\n",
       "    </tr>\n",
       "    <tr>\n",
       "      <th>1</th>\n",
       "      <td>2</td>\n",
       "      <td>1</td>\n",
       "      <td>1</td>\n",
       "      <td>Cumings, Mrs. John Bradley (Florence Briggs Th...</td>\n",
       "      <td>female</td>\n",
       "      <td>38.0</td>\n",
       "      <td>1</td>\n",
       "      <td>0</td>\n",
       "      <td>PC 17599</td>\n",
       "      <td>71.2833</td>\n",
       "      <td>C85</td>\n",
       "      <td>C</td>\n",
       "    </tr>\n",
       "    <tr>\n",
       "      <th>2</th>\n",
       "      <td>3</td>\n",
       "      <td>1</td>\n",
       "      <td>3</td>\n",
       "      <td>Heikkinen, Miss. Laina</td>\n",
       "      <td>female</td>\n",
       "      <td>26.0</td>\n",
       "      <td>0</td>\n",
       "      <td>0</td>\n",
       "      <td>STON/O2. 3101282</td>\n",
       "      <td>7.9250</td>\n",
       "      <td>NaN</td>\n",
       "      <td>S</td>\n",
       "    </tr>\n",
       "    <tr>\n",
       "      <th>3</th>\n",
       "      <td>4</td>\n",
       "      <td>1</td>\n",
       "      <td>1</td>\n",
       "      <td>Futrelle, Mrs. Jacques Heath (Lily May Peel)</td>\n",
       "      <td>female</td>\n",
       "      <td>35.0</td>\n",
       "      <td>1</td>\n",
       "      <td>0</td>\n",
       "      <td>113803</td>\n",
       "      <td>53.1000</td>\n",
       "      <td>C123</td>\n",
       "      <td>S</td>\n",
       "    </tr>\n",
       "    <tr>\n",
       "      <th>4</th>\n",
       "      <td>5</td>\n",
       "      <td>0</td>\n",
       "      <td>3</td>\n",
       "      <td>Allen, Mr. William Henry</td>\n",
       "      <td>male</td>\n",
       "      <td>35.0</td>\n",
       "      <td>0</td>\n",
       "      <td>0</td>\n",
       "      <td>373450</td>\n",
       "      <td>8.0500</td>\n",
       "      <td>NaN</td>\n",
       "      <td>S</td>\n",
       "    </tr>\n",
       "    <tr>\n",
       "      <th>...</th>\n",
       "      <td>...</td>\n",
       "      <td>...</td>\n",
       "      <td>...</td>\n",
       "      <td>...</td>\n",
       "      <td>...</td>\n",
       "      <td>...</td>\n",
       "      <td>...</td>\n",
       "      <td>...</td>\n",
       "      <td>...</td>\n",
       "      <td>...</td>\n",
       "      <td>...</td>\n",
       "      <td>...</td>\n",
       "    </tr>\n",
       "    <tr>\n",
       "      <th>886</th>\n",
       "      <td>887</td>\n",
       "      <td>0</td>\n",
       "      <td>2</td>\n",
       "      <td>Montvila, Rev. Juozas</td>\n",
       "      <td>male</td>\n",
       "      <td>27.0</td>\n",
       "      <td>0</td>\n",
       "      <td>0</td>\n",
       "      <td>211536</td>\n",
       "      <td>13.0000</td>\n",
       "      <td>NaN</td>\n",
       "      <td>S</td>\n",
       "    </tr>\n",
       "    <tr>\n",
       "      <th>887</th>\n",
       "      <td>888</td>\n",
       "      <td>1</td>\n",
       "      <td>1</td>\n",
       "      <td>Graham, Miss. Margaret Edith</td>\n",
       "      <td>female</td>\n",
       "      <td>19.0</td>\n",
       "      <td>0</td>\n",
       "      <td>0</td>\n",
       "      <td>112053</td>\n",
       "      <td>30.0000</td>\n",
       "      <td>B42</td>\n",
       "      <td>S</td>\n",
       "    </tr>\n",
       "    <tr>\n",
       "      <th>888</th>\n",
       "      <td>889</td>\n",
       "      <td>0</td>\n",
       "      <td>3</td>\n",
       "      <td>Johnston, Miss. Catherine Helen \"Carrie\"</td>\n",
       "      <td>female</td>\n",
       "      <td>NaN</td>\n",
       "      <td>1</td>\n",
       "      <td>2</td>\n",
       "      <td>W./C. 6607</td>\n",
       "      <td>23.4500</td>\n",
       "      <td>NaN</td>\n",
       "      <td>S</td>\n",
       "    </tr>\n",
       "    <tr>\n",
       "      <th>889</th>\n",
       "      <td>890</td>\n",
       "      <td>1</td>\n",
       "      <td>1</td>\n",
       "      <td>Behr, Mr. Karl Howell</td>\n",
       "      <td>male</td>\n",
       "      <td>26.0</td>\n",
       "      <td>0</td>\n",
       "      <td>0</td>\n",
       "      <td>111369</td>\n",
       "      <td>30.0000</td>\n",
       "      <td>C148</td>\n",
       "      <td>C</td>\n",
       "    </tr>\n",
       "    <tr>\n",
       "      <th>890</th>\n",
       "      <td>891</td>\n",
       "      <td>0</td>\n",
       "      <td>3</td>\n",
       "      <td>Dooley, Mr. Patrick</td>\n",
       "      <td>male</td>\n",
       "      <td>32.0</td>\n",
       "      <td>0</td>\n",
       "      <td>0</td>\n",
       "      <td>370376</td>\n",
       "      <td>7.7500</td>\n",
       "      <td>NaN</td>\n",
       "      <td>Q</td>\n",
       "    </tr>\n",
       "  </tbody>\n",
       "</table>\n",
       "<p>891 rows × 12 columns</p>\n",
       "</div>"
      ],
      "text/plain": [
       "     PassengerId  Survived  Pclass  \\\n",
       "0              1         0       3   \n",
       "1              2         1       1   \n",
       "2              3         1       3   \n",
       "3              4         1       1   \n",
       "4              5         0       3   \n",
       "..           ...       ...     ...   \n",
       "886          887         0       2   \n",
       "887          888         1       1   \n",
       "888          889         0       3   \n",
       "889          890         1       1   \n",
       "890          891         0       3   \n",
       "\n",
       "                                                  Name     Sex   Age  SibSp  \\\n",
       "0                              Braund, Mr. Owen Harris    male  22.0      1   \n",
       "1    Cumings, Mrs. John Bradley (Florence Briggs Th...  female  38.0      1   \n",
       "2                               Heikkinen, Miss. Laina  female  26.0      0   \n",
       "3         Futrelle, Mrs. Jacques Heath (Lily May Peel)  female  35.0      1   \n",
       "4                             Allen, Mr. William Henry    male  35.0      0   \n",
       "..                                                 ...     ...   ...    ...   \n",
       "886                              Montvila, Rev. Juozas    male  27.0      0   \n",
       "887                       Graham, Miss. Margaret Edith  female  19.0      0   \n",
       "888           Johnston, Miss. Catherine Helen \"Carrie\"  female   NaN      1   \n",
       "889                              Behr, Mr. Karl Howell    male  26.0      0   \n",
       "890                                Dooley, Mr. Patrick    male  32.0      0   \n",
       "\n",
       "     Parch            Ticket     Fare Cabin Embarked  \n",
       "0        0         A/5 21171   7.2500   NaN        S  \n",
       "1        0          PC 17599  71.2833   C85        C  \n",
       "2        0  STON/O2. 3101282   7.9250   NaN        S  \n",
       "3        0            113803  53.1000  C123        S  \n",
       "4        0            373450   8.0500   NaN        S  \n",
       "..     ...               ...      ...   ...      ...  \n",
       "886      0            211536  13.0000   NaN        S  \n",
       "887      0            112053  30.0000   B42        S  \n",
       "888      2        W./C. 6607  23.4500   NaN        S  \n",
       "889      0            111369  30.0000  C148        C  \n",
       "890      0            370376   7.7500   NaN        Q  \n",
       "\n",
       "[891 rows x 12 columns]"
      ]
     },
     "execution_count": 257,
     "metadata": {},
     "output_type": "execute_result"
    }
   ],
   "source": [
    "#reading csv file and storing in df  \n",
    "df=pd.read_csv('https://raw.githubusercontent.com/dsrscientist/dataset1/master/titanic_train.csv')\n",
    "df"
   ]
  },
  {
   "cell_type": "markdown",
   "id": "9cde729e",
   "metadata": {},
   "source": [
    "#### checking nulls"
   ]
  },
  {
   "cell_type": "code",
   "execution_count": 258,
   "id": "12c6a234",
   "metadata": {},
   "outputs": [
    {
     "data": {
      "text/plain": [
       "PassengerId      0\n",
       "Survived         0\n",
       "Pclass           0\n",
       "Name             0\n",
       "Sex              0\n",
       "Age            177\n",
       "SibSp            0\n",
       "Parch            0\n",
       "Ticket           0\n",
       "Fare             0\n",
       "Cabin          687\n",
       "Embarked         2\n",
       "dtype: int64"
      ]
     },
     "execution_count": 258,
     "metadata": {},
     "output_type": "execute_result"
    }
   ],
   "source": [
    "df.isnull().sum()"
   ]
  },
  {
   "cell_type": "markdown",
   "id": "f18f1cb8",
   "metadata": {},
   "source": [
    "- Cabin has 687 null data ie about 78% is null data, therefore its better to drop\n",
    "- Age has 177 null data about 20% is null data, needs to be imputed, need to check correaltion with target also vif to determine if it should be dropped or not\n",
    "- Embarked  has only 2 missing data which can be easily imputed\n",
    "- Passenenger_Id is for idenitfying passengers and the last number signifies total number of passengers that have boarded onto the ship, so its better to drop"
   ]
  },
  {
   "cell_type": "code",
   "execution_count": 259,
   "id": "c31320d9",
   "metadata": {},
   "outputs": [],
   "source": [
    "df.drop('Cabin',axis=1,inplace=True)"
   ]
  },
  {
   "cell_type": "markdown",
   "id": "57791807",
   "metadata": {},
   "source": [
    "- dropping Cabin column"
   ]
  },
  {
   "cell_type": "markdown",
   "id": "d2edc976",
   "metadata": {},
   "source": [
    "#### checking data types"
   ]
  },
  {
   "cell_type": "code",
   "execution_count": 260,
   "id": "6c879f24",
   "metadata": {},
   "outputs": [
    {
     "name": "stdout",
     "output_type": "stream",
     "text": [
      "<class 'pandas.core.frame.DataFrame'>\n",
      "RangeIndex: 891 entries, 0 to 890\n",
      "Data columns (total 11 columns):\n",
      " #   Column       Non-Null Count  Dtype  \n",
      "---  ------       --------------  -----  \n",
      " 0   PassengerId  891 non-null    int64  \n",
      " 1   Survived     891 non-null    int64  \n",
      " 2   Pclass       891 non-null    int64  \n",
      " 3   Name         891 non-null    object \n",
      " 4   Sex          891 non-null    object \n",
      " 5   Age          714 non-null    float64\n",
      " 6   SibSp        891 non-null    int64  \n",
      " 7   Parch        891 non-null    int64  \n",
      " 8   Ticket       891 non-null    object \n",
      " 9   Fare         891 non-null    float64\n",
      " 10  Embarked     889 non-null    object \n",
      "dtypes: float64(2), int64(5), object(4)\n",
      "memory usage: 76.7+ KB\n"
     ]
    }
   ],
   "source": [
    "df.info()"
   ]
  },
  {
   "cell_type": "markdown",
   "id": "5f3d1375",
   "metadata": {},
   "source": [
    "- Name, Sex, Ticket and Embarked are object datatypes and rest are numerical datatypes"
   ]
  },
  {
   "cell_type": "markdown",
   "id": "8e8c43c5",
   "metadata": {},
   "source": [
    "#### checking how the data is defined statistically"
   ]
  },
  {
   "cell_type": "code",
   "execution_count": 261,
   "id": "9ba4a24e",
   "metadata": {},
   "outputs": [
    {
     "data": {
      "text/html": [
       "<div>\n",
       "<style scoped>\n",
       "    .dataframe tbody tr th:only-of-type {\n",
       "        vertical-align: middle;\n",
       "    }\n",
       "\n",
       "    .dataframe tbody tr th {\n",
       "        vertical-align: top;\n",
       "    }\n",
       "\n",
       "    .dataframe thead th {\n",
       "        text-align: right;\n",
       "    }\n",
       "</style>\n",
       "<table border=\"1\" class=\"dataframe\">\n",
       "  <thead>\n",
       "    <tr style=\"text-align: right;\">\n",
       "      <th></th>\n",
       "      <th>PassengerId</th>\n",
       "      <th>Survived</th>\n",
       "      <th>Pclass</th>\n",
       "      <th>Age</th>\n",
       "      <th>SibSp</th>\n",
       "      <th>Parch</th>\n",
       "      <th>Fare</th>\n",
       "    </tr>\n",
       "  </thead>\n",
       "  <tbody>\n",
       "    <tr>\n",
       "      <th>count</th>\n",
       "      <td>891.000000</td>\n",
       "      <td>891.000000</td>\n",
       "      <td>891.000000</td>\n",
       "      <td>714.000000</td>\n",
       "      <td>891.000000</td>\n",
       "      <td>891.000000</td>\n",
       "      <td>891.000000</td>\n",
       "    </tr>\n",
       "    <tr>\n",
       "      <th>mean</th>\n",
       "      <td>446.000000</td>\n",
       "      <td>0.383838</td>\n",
       "      <td>2.308642</td>\n",
       "      <td>29.699118</td>\n",
       "      <td>0.523008</td>\n",
       "      <td>0.381594</td>\n",
       "      <td>32.204208</td>\n",
       "    </tr>\n",
       "    <tr>\n",
       "      <th>std</th>\n",
       "      <td>257.353842</td>\n",
       "      <td>0.486592</td>\n",
       "      <td>0.836071</td>\n",
       "      <td>14.526497</td>\n",
       "      <td>1.102743</td>\n",
       "      <td>0.806057</td>\n",
       "      <td>49.693429</td>\n",
       "    </tr>\n",
       "    <tr>\n",
       "      <th>min</th>\n",
       "      <td>1.000000</td>\n",
       "      <td>0.000000</td>\n",
       "      <td>1.000000</td>\n",
       "      <td>0.420000</td>\n",
       "      <td>0.000000</td>\n",
       "      <td>0.000000</td>\n",
       "      <td>0.000000</td>\n",
       "    </tr>\n",
       "    <tr>\n",
       "      <th>25%</th>\n",
       "      <td>223.500000</td>\n",
       "      <td>0.000000</td>\n",
       "      <td>2.000000</td>\n",
       "      <td>20.125000</td>\n",
       "      <td>0.000000</td>\n",
       "      <td>0.000000</td>\n",
       "      <td>7.910400</td>\n",
       "    </tr>\n",
       "    <tr>\n",
       "      <th>50%</th>\n",
       "      <td>446.000000</td>\n",
       "      <td>0.000000</td>\n",
       "      <td>3.000000</td>\n",
       "      <td>28.000000</td>\n",
       "      <td>0.000000</td>\n",
       "      <td>0.000000</td>\n",
       "      <td>14.454200</td>\n",
       "    </tr>\n",
       "    <tr>\n",
       "      <th>75%</th>\n",
       "      <td>668.500000</td>\n",
       "      <td>1.000000</td>\n",
       "      <td>3.000000</td>\n",
       "      <td>38.000000</td>\n",
       "      <td>1.000000</td>\n",
       "      <td>0.000000</td>\n",
       "      <td>31.000000</td>\n",
       "    </tr>\n",
       "    <tr>\n",
       "      <th>max</th>\n",
       "      <td>891.000000</td>\n",
       "      <td>1.000000</td>\n",
       "      <td>3.000000</td>\n",
       "      <td>80.000000</td>\n",
       "      <td>8.000000</td>\n",
       "      <td>6.000000</td>\n",
       "      <td>512.329200</td>\n",
       "    </tr>\n",
       "  </tbody>\n",
       "</table>\n",
       "</div>"
      ],
      "text/plain": [
       "       PassengerId    Survived      Pclass         Age       SibSp  \\\n",
       "count   891.000000  891.000000  891.000000  714.000000  891.000000   \n",
       "mean    446.000000    0.383838    2.308642   29.699118    0.523008   \n",
       "std     257.353842    0.486592    0.836071   14.526497    1.102743   \n",
       "min       1.000000    0.000000    1.000000    0.420000    0.000000   \n",
       "25%     223.500000    0.000000    2.000000   20.125000    0.000000   \n",
       "50%     446.000000    0.000000    3.000000   28.000000    0.000000   \n",
       "75%     668.500000    1.000000    3.000000   38.000000    1.000000   \n",
       "max     891.000000    1.000000    3.000000   80.000000    8.000000   \n",
       "\n",
       "            Parch        Fare  \n",
       "count  891.000000  891.000000  \n",
       "mean     0.381594   32.204208  \n",
       "std      0.806057   49.693429  \n",
       "min      0.000000    0.000000  \n",
       "25%      0.000000    7.910400  \n",
       "50%      0.000000   14.454200  \n",
       "75%      0.000000   31.000000  \n",
       "max      6.000000  512.329200  "
      ]
     },
     "execution_count": 261,
     "metadata": {},
     "output_type": "execute_result"
    }
   ],
   "source": [
    "df.describe()"
   ]
  },
  {
   "cell_type": "markdown",
   "id": "fb7edda5",
   "metadata": {},
   "source": [
    "- SibSp can be zero as the traveller must have come alone \n",
    "- Parch can also be zero as they may have travled without their parents or children\n",
    "- Fare cannot be zero need to be imputed, by mean value"
   ]
  },
  {
   "cell_type": "markdown",
   "id": "70700032",
   "metadata": {},
   "source": [
    "#### Imputation"
   ]
  },
  {
   "cell_type": "markdown",
   "id": "c5a5084c",
   "metadata": {},
   "source": [
    "- Fare adding mean value of Fare to all missing data"
   ]
  },
  {
   "cell_type": "code",
   "execution_count": 262,
   "id": "6d4a28cb",
   "metadata": {},
   "outputs": [],
   "source": [
    "#finding position where fare has value 0 and impuiting its value by mean\n",
    "pos=np.where(df['Fare']==0)\n",
    "for i in pos:\n",
    "    df.loc[i,'Fare']=df['Fare'].mean()"
   ]
  },
  {
   "cell_type": "code",
   "execution_count": 263,
   "id": "54952e39",
   "metadata": {},
   "outputs": [
    {
     "data": {
      "text/plain": [
       "0"
      ]
     },
     "execution_count": 263,
     "metadata": {},
     "output_type": "execute_result"
    }
   ],
   "source": [
    "#check\n",
    "df['Fare'].isna().sum()"
   ]
  },
  {
   "cell_type": "markdown",
   "id": "3307bc99",
   "metadata": {},
   "source": [
    "- Age filling nulls by the mean according to their sex"
   ]
  },
  {
   "cell_type": "code",
   "execution_count": 264,
   "id": "c438a35b",
   "metadata": {},
   "outputs": [
    {
     "data": {
      "text/html": [
       "<div>\n",
       "<style scoped>\n",
       "    .dataframe tbody tr th:only-of-type {\n",
       "        vertical-align: middle;\n",
       "    }\n",
       "\n",
       "    .dataframe tbody tr th {\n",
       "        vertical-align: top;\n",
       "    }\n",
       "\n",
       "    .dataframe thead th {\n",
       "        text-align: right;\n",
       "    }\n",
       "</style>\n",
       "<table border=\"1\" class=\"dataframe\">\n",
       "  <thead>\n",
       "    <tr style=\"text-align: right;\">\n",
       "      <th></th>\n",
       "      <th>Age</th>\n",
       "    </tr>\n",
       "    <tr>\n",
       "      <th>Sex</th>\n",
       "      <th></th>\n",
       "    </tr>\n",
       "  </thead>\n",
       "  <tbody>\n",
       "    <tr>\n",
       "      <th>female</th>\n",
       "      <td>28.0</td>\n",
       "    </tr>\n",
       "    <tr>\n",
       "      <th>male</th>\n",
       "      <td>31.0</td>\n",
       "    </tr>\n",
       "  </tbody>\n",
       "</table>\n",
       "</div>"
      ],
      "text/plain": [
       "         Age\n",
       "Sex         \n",
       "female  28.0\n",
       "male    31.0"
      ]
     },
     "execution_count": 264,
     "metadata": {},
     "output_type": "execute_result"
    }
   ],
   "source": [
    "#finding the mean of Age grouped by Sex\n",
    "age_mean=round(df.groupby([\"Sex\"]).agg({\"Age\":\"mean\"}),0)\n",
    "age_mean"
   ]
  },
  {
   "cell_type": "code",
   "execution_count": 265,
   "id": "44a05d5d",
   "metadata": {},
   "outputs": [],
   "source": [
    "for index in age_mean.index:\n",
    "    pos=df.loc[df[\"Sex\"]==index,[\"Age\"]].isnull()\n",
    "    for index_2 in pos.index:\n",
    "        if pos.loc[index_2][0]==True:\n",
    "            df.loc[index_2,[\"Age\"]]=age_mean.loc[index][0]"
   ]
  },
  {
   "cell_type": "markdown",
   "id": "e71cf9b3",
   "metadata": {},
   "source": [
    "- loop starts by taking female then male for index value\n",
    "- pos\n",
    "    - df[\"Sex\"] tries to match with index value\n",
    "    - next it checks where nulls are present by using the isnull() iin Age column, isnull() return True if nulls are present and False if no nulls are present\n",
    "- second loop runs using the index values in pos\n",
    "- here only those who have true value are taken, False condition is not taken\n",
    "- Age where nulls are present is imputed by mean value at that location "
   ]
  },
  {
   "cell_type": "code",
   "execution_count": 266,
   "id": "624767e2",
   "metadata": {},
   "outputs": [
    {
     "data": {
      "text/plain": [
       "0"
      ]
     },
     "execution_count": 266,
     "metadata": {},
     "output_type": "execute_result"
    }
   ],
   "source": [
    "#check\n",
    "df['Age'].isna().sum()"
   ]
  },
  {
   "cell_type": "markdown",
   "id": "005e27fa",
   "metadata": {},
   "source": [
    "- Embarked imputed by mode"
   ]
  },
  {
   "cell_type": "code",
   "execution_count": 267,
   "id": "26615459",
   "metadata": {},
   "outputs": [],
   "source": [
    "#pos stores where nulls are present and loop is used to impute the value S as it is the most frequent value\n",
    "pos=np.where(df['Embarked'].isnull()==True)\n",
    "for i in pos:\n",
    "    df.loc[i,'Embarked']='S'"
   ]
  },
  {
   "cell_type": "code",
   "execution_count": 268,
   "id": "6d4c87af",
   "metadata": {},
   "outputs": [
    {
     "data": {
      "text/plain": [
       "0"
      ]
     },
     "execution_count": 268,
     "metadata": {},
     "output_type": "execute_result"
    }
   ],
   "source": [
    "#check\n",
    "df['Embarked'].isna().sum()"
   ]
  },
  {
   "cell_type": "markdown",
   "id": "d9c0c4be",
   "metadata": {},
   "source": [
    "#### seperating numerical data and categorical data and plotting"
   ]
  },
  {
   "cell_type": "code",
   "execution_count": 269,
   "id": "3e053903",
   "metadata": {},
   "outputs": [
    {
     "data": {
      "image/png": "[encoded data removed]",
      "text/plain": [
       "<Figure size 720x720 with 2 Axes>"
      ]
     },
     "metadata": {
      "needs_background": "light"
     },
     "output_type": "display_data"
    }
   ],
   "source": [
    "#numericalColumns stores Age and Fare as they are continous numerical data and plot is made\n",
    "numericalColumns=df[['Age','Fare']].copy()\n",
    "j=0\n",
    "plt.figure(figsize=(10,10))\n",
    "for column in numericalColumns:\n",
    "    plt.subplot(3,3,j+1)\n",
    "    sns.distplot(df[column])\n",
    "    plt.xlabel(column,fontsize=12)\n",
    "    j+=1\n",
    "plt.tight_layout()"
   ]
  },
  {
   "cell_type": "markdown",
   "id": "650248eb",
   "metadata": {},
   "source": [
    "- Age\n",
    "    - appears uniformly ditributed with very less skewness, presence of outliers can be observed\n",
    "    - most of the passengers were faround the age of 30s, value very close to zero indicates that infant were also onboard the ship and travelers as old as 80 were onboard the ship\n",
    "\n",
    "- Fare\n",
    "    - the averge fare value is around 30 the value close to zero indicates that there were kids onboard and also some may have availed discounts, fare value ranges from 0-200 also a large variation in fare prices could be due to differnce in the price in class they have taken the seat\n",
    "    - the graph appears to be uniformly ditributed with positive skewness and presence of outliers"
   ]
  },
  {
   "cell_type": "markdown",
   "id": "f626005a",
   "metadata": {},
   "source": [
    "#### Numerical Categorical Columns"
   ]
  },
  {
   "cell_type": "code",
   "execution_count": 270,
   "id": "8af4fac5",
   "metadata": {},
   "outputs": [
    {
     "name": "stdout",
     "output_type": "stream",
     "text": [
      "0    549\n",
      "1    342\n",
      "Name: Survived, dtype: int64\n",
      "3    491\n",
      "1    216\n",
      "2    184\n",
      "Name: Pclass, dtype: int64\n",
      "0    608\n",
      "1    209\n",
      "2     28\n",
      "4     18\n",
      "3     16\n",
      "8      7\n",
      "5      5\n",
      "Name: SibSp, dtype: int64\n",
      "0    678\n",
      "1    118\n",
      "2     80\n",
      "5      5\n",
      "3      5\n",
      "4      4\n",
      "6      1\n",
      "Name: Parch, dtype: int64\n"
     ]
    },
    {
     "data": {
      "image/png": "[encoded data removed]",
      "text/plain": [
       "<Figure size 720x720 with 4 Axes>"
      ]
     },
     "metadata": {
      "needs_background": "light"
     },
     "output_type": "display_data"
    }
   ],
   "source": [
    "# k stores the value of categorical numerical data and use countplot to see their dstribution\n",
    "k=df[['Survived','Pclass','SibSp','Parch']]\n",
    "j=0\n",
    "plt.figure(figsize=(10,10))\n",
    "for column in k:\n",
    "    plt.subplot(3,3,j+1)\n",
    "    sns.countplot(df[column])\n",
    "    print(df[column].value_counts())\n",
    "    plt.xlabel(column,fontsize=12)\n",
    "    j+=1\n",
    "plt.tight_layout()\n",
    " "
   ]
  },
  {
   "cell_type": "markdown",
   "id": "8b505e95",
   "metadata": {},
   "source": [
    "- Survived \n",
    "    - only 39% of travelers survived \n",
    "    - the data appears to be imbalanced 0.622 ideal about 0.75 ratio of dead to survived\n",
    "- Pclass \n",
    "    - most of travelers opted for Pclass 3 and the least prefered Pclass 2\n",
    "- SibSp  \n",
    "    - most of travelers came individually yet there were cases were 8 people from the same family were onboard as well\n",
    "- Parch\n",
    "     -  most of travelers came individually, yet their were family were 6 people were parents/children were on board"
   ]
  },
  {
   "cell_type": "markdown",
   "id": "1a4862e9",
   "metadata": {},
   "source": [
    "#### Categorical data\n"
   ]
  },
  {
   "cell_type": "code",
   "execution_count": 271,
   "id": "2ec6363c",
   "metadata": {},
   "outputs": [
    {
     "name": "stdout",
     "output_type": "stream",
     "text": [
      "male      577\n",
      "female    314\n",
      "Name: Sex, dtype: int64\n",
      "\n",
      "\n",
      "S    646\n",
      "C    168\n",
      "Q     77\n",
      "Name: Embarked, dtype: int64\n",
      "\n",
      "\n"
     ]
    },
    {
     "data": {
      "image/png": "[encoded data removed]",
      "text/plain": [
       "<Figure size 1080x1080 with 2 Axes>"
      ]
     },
     "metadata": {
      "needs_background": "light"
     },
     "output_type": "display_data"
    }
   ],
   "source": [
    "#objectColumns stores all data that are objject datatype\n",
    "objectColumns=df[['Sex','Embarked']]\n",
    "j=0\n",
    "plt.figure(figsize=(15,15))\n",
    "for column in objectColumns:\n",
    "    plt.subplot(5,2,j+1)\n",
    "    sns.countplot(df[column])\n",
    "    plt.xlabel(column,fontsize=12)\n",
    "    print(df[column].value_counts())\n",
    "    print('\\n')\n",
    "    j+=1\n",
    "plt.tight_layout() "
   ]
  },
  {
   "cell_type": "markdown",
   "id": "1e7af563",
   "metadata": {},
   "source": [
    "- Sex: most of the travelers were male\n",
    "- Embarked: most of travelers prefered S and prefered Q the least"
   ]
  },
  {
   "cell_type": "markdown",
   "id": "d449c1a6",
   "metadata": {},
   "source": [
    "#### Bivariate analysis"
   ]
  },
  {
   "cell_type": "code",
   "execution_count": 272,
   "id": "575bcee9",
   "metadata": {},
   "outputs": [
    {
     "data": {
      "text/plain": [
       "<AxesSubplot:xlabel='Sex', ylabel='Age'>"
      ]
     },
     "execution_count": 272,
     "metadata": {},
     "output_type": "execute_result"
    },
    {
     "data": {
      "image/png": "[encoded data removed]",
      "text/plain": [
       "<Figure size 432x288 with 1 Axes>"
      ]
     },
     "metadata": {
      "needs_background": "light"
     },
     "output_type": "display_data"
    }
   ],
   "source": [
    "sns.boxplot(x='Sex',y='Age',hue='Survived',data=df)"
   ]
  },
  {
   "cell_type": "markdown",
   "id": "626e9737",
   "metadata": {},
   "source": [
    "- the young generation male survived more compared to the older genration\n",
    "- in female the older generation survived more compared to younger"
   ]
  },
  {
   "cell_type": "code",
   "execution_count": 273,
   "id": "cb938f91",
   "metadata": {},
   "outputs": [
    {
     "data": {
      "text/plain": [
       "<AxesSubplot:xlabel='Embarked', ylabel='Survived'>"
      ]
     },
     "execution_count": 273,
     "metadata": {},
     "output_type": "execute_result"
    },
    {
     "data": {
      "image/png": "[encoded data removed]",
      "text/plain": [
       "<Figure size 432x288 with 1 Axes>"
      ]
     },
     "metadata": {
      "needs_background": "light"
     },
     "output_type": "display_data"
    }
   ],
   "source": [
    "sns.barplot(x='Embarked',y='Survived',hue='Sex',data=df)"
   ]
  },
  {
   "cell_type": "markdown",
   "id": "be18dfd4",
   "metadata": {},
   "source": [
    " - the passengers who survived the most were in C section \n",
    " - most of the male in section Q didnt survive\n",
    " "
   ]
  },
  {
   "cell_type": "markdown",
   "id": "316b7854",
   "metadata": {},
   "source": [
    "#### Deleting columns"
   ]
  },
  {
   "cell_type": "markdown",
   "id": "d233b340",
   "metadata": {},
   "source": [
    "- The following factors doesnt help in increasing the survival chance hence dropping those columns\n",
    "    - ticket is used for passenger to board \n",
    "    - name is used to identify a person\n",
    "    - PassengerID is used to identify a person onboard and has no purpose\n"
   ]
  },
  {
   "cell_type": "code",
   "execution_count": 274,
   "id": "5d7e7c71",
   "metadata": {},
   "outputs": [
    {
     "data": {
      "text/html": [
       "<div>\n",
       "<style scoped>\n",
       "    .dataframe tbody tr th:only-of-type {\n",
       "        vertical-align: middle;\n",
       "    }\n",
       "\n",
       "    .dataframe tbody tr th {\n",
       "        vertical-align: top;\n",
       "    }\n",
       "\n",
       "    .dataframe thead th {\n",
       "        text-align: right;\n",
       "    }\n",
       "</style>\n",
       "<table border=\"1\" class=\"dataframe\">\n",
       "  <thead>\n",
       "    <tr style=\"text-align: right;\">\n",
       "      <th></th>\n",
       "      <th>Survived</th>\n",
       "      <th>Pclass</th>\n",
       "      <th>Sex</th>\n",
       "      <th>Age</th>\n",
       "      <th>SibSp</th>\n",
       "      <th>Parch</th>\n",
       "      <th>Fare</th>\n",
       "      <th>Embarked</th>\n",
       "    </tr>\n",
       "  </thead>\n",
       "  <tbody>\n",
       "    <tr>\n",
       "      <th>0</th>\n",
       "      <td>0</td>\n",
       "      <td>3</td>\n",
       "      <td>male</td>\n",
       "      <td>22.0</td>\n",
       "      <td>1</td>\n",
       "      <td>0</td>\n",
       "      <td>7.2500</td>\n",
       "      <td>S</td>\n",
       "    </tr>\n",
       "    <tr>\n",
       "      <th>1</th>\n",
       "      <td>1</td>\n",
       "      <td>1</td>\n",
       "      <td>female</td>\n",
       "      <td>38.0</td>\n",
       "      <td>1</td>\n",
       "      <td>0</td>\n",
       "      <td>71.2833</td>\n",
       "      <td>C</td>\n",
       "    </tr>\n",
       "    <tr>\n",
       "      <th>2</th>\n",
       "      <td>1</td>\n",
       "      <td>3</td>\n",
       "      <td>female</td>\n",
       "      <td>26.0</td>\n",
       "      <td>0</td>\n",
       "      <td>0</td>\n",
       "      <td>7.9250</td>\n",
       "      <td>S</td>\n",
       "    </tr>\n",
       "    <tr>\n",
       "      <th>3</th>\n",
       "      <td>1</td>\n",
       "      <td>1</td>\n",
       "      <td>female</td>\n",
       "      <td>35.0</td>\n",
       "      <td>1</td>\n",
       "      <td>0</td>\n",
       "      <td>53.1000</td>\n",
       "      <td>S</td>\n",
       "    </tr>\n",
       "    <tr>\n",
       "      <th>4</th>\n",
       "      <td>0</td>\n",
       "      <td>3</td>\n",
       "      <td>male</td>\n",
       "      <td>35.0</td>\n",
       "      <td>0</td>\n",
       "      <td>0</td>\n",
       "      <td>8.0500</td>\n",
       "      <td>S</td>\n",
       "    </tr>\n",
       "    <tr>\n",
       "      <th>...</th>\n",
       "      <td>...</td>\n",
       "      <td>...</td>\n",
       "      <td>...</td>\n",
       "      <td>...</td>\n",
       "      <td>...</td>\n",
       "      <td>...</td>\n",
       "      <td>...</td>\n",
       "      <td>...</td>\n",
       "    </tr>\n",
       "    <tr>\n",
       "      <th>886</th>\n",
       "      <td>0</td>\n",
       "      <td>2</td>\n",
       "      <td>male</td>\n",
       "      <td>27.0</td>\n",
       "      <td>0</td>\n",
       "      <td>0</td>\n",
       "      <td>13.0000</td>\n",
       "      <td>S</td>\n",
       "    </tr>\n",
       "    <tr>\n",
       "      <th>887</th>\n",
       "      <td>1</td>\n",
       "      <td>1</td>\n",
       "      <td>female</td>\n",
       "      <td>19.0</td>\n",
       "      <td>0</td>\n",
       "      <td>0</td>\n",
       "      <td>30.0000</td>\n",
       "      <td>S</td>\n",
       "    </tr>\n",
       "    <tr>\n",
       "      <th>888</th>\n",
       "      <td>0</td>\n",
       "      <td>3</td>\n",
       "      <td>female</td>\n",
       "      <td>28.0</td>\n",
       "      <td>1</td>\n",
       "      <td>2</td>\n",
       "      <td>23.4500</td>\n",
       "      <td>S</td>\n",
       "    </tr>\n",
       "    <tr>\n",
       "      <th>889</th>\n",
       "      <td>1</td>\n",
       "      <td>1</td>\n",
       "      <td>male</td>\n",
       "      <td>26.0</td>\n",
       "      <td>0</td>\n",
       "      <td>0</td>\n",
       "      <td>30.0000</td>\n",
       "      <td>C</td>\n",
       "    </tr>\n",
       "    <tr>\n",
       "      <th>890</th>\n",
       "      <td>0</td>\n",
       "      <td>3</td>\n",
       "      <td>male</td>\n",
       "      <td>32.0</td>\n",
       "      <td>0</td>\n",
       "      <td>0</td>\n",
       "      <td>7.7500</td>\n",
       "      <td>Q</td>\n",
       "    </tr>\n",
       "  </tbody>\n",
       "</table>\n",
       "<p>891 rows × 8 columns</p>\n",
       "</div>"
      ],
      "text/plain": [
       "     Survived  Pclass     Sex   Age  SibSp  Parch     Fare Embarked\n",
       "0           0       3    male  22.0      1      0   7.2500        S\n",
       "1           1       1  female  38.0      1      0  71.2833        C\n",
       "2           1       3  female  26.0      0      0   7.9250        S\n",
       "3           1       1  female  35.0      1      0  53.1000        S\n",
       "4           0       3    male  35.0      0      0   8.0500        S\n",
       "..        ...     ...     ...   ...    ...    ...      ...      ...\n",
       "886         0       2    male  27.0      0      0  13.0000        S\n",
       "887         1       1  female  19.0      0      0  30.0000        S\n",
       "888         0       3  female  28.0      1      2  23.4500        S\n",
       "889         1       1    male  26.0      0      0  30.0000        C\n",
       "890         0       3    male  32.0      0      0   7.7500        Q\n",
       "\n",
       "[891 rows x 8 columns]"
      ]
     },
     "execution_count": 274,
     "metadata": {},
     "output_type": "execute_result"
    }
   ],
   "source": [
    "df.drop(['PassengerId','Name','Ticket'],axis=1,inplace=True)\n",
    "df"
   ]
  },
  {
   "cell_type": "markdown",
   "id": "90154596",
   "metadata": {},
   "source": [
    "#### check skewness"
   ]
  },
  {
   "cell_type": "code",
   "execution_count": 275,
   "id": "59893b1e",
   "metadata": {},
   "outputs": [
    {
     "data": {
      "text/plain": [
       "Survived    0.478523\n",
       "Pclass     -0.630548\n",
       "Age         0.414480\n",
       "SibSp       3.695352\n",
       "Parch       2.749117\n",
       "Fare        4.811194\n",
       "dtype: float64"
      ]
     },
     "execution_count": 275,
     "metadata": {},
     "output_type": "execute_result"
    }
   ],
   "source": [
    "df.skew()"
   ]
  },
  {
   "cell_type": "markdown",
   "id": "474268ed",
   "metadata": {},
   "source": [
    "- Age is within the limits and Fare exceed the limits need to be treated \n",
    "\n",
    "- rest all are numerical categorical data and skewness is not concerned"
   ]
  },
  {
   "cell_type": "code",
   "execution_count": 276,
   "id": "07c0afcf",
   "metadata": {},
   "outputs": [
    {
     "data": {
      "text/html": [
       "<div>\n",
       "<style scoped>\n",
       "    .dataframe tbody tr th:only-of-type {\n",
       "        vertical-align: middle;\n",
       "    }\n",
       "\n",
       "    .dataframe tbody tr th {\n",
       "        vertical-align: top;\n",
       "    }\n",
       "\n",
       "    .dataframe thead th {\n",
       "        text-align: right;\n",
       "    }\n",
       "</style>\n",
       "<table border=\"1\" class=\"dataframe\">\n",
       "  <thead>\n",
       "    <tr style=\"text-align: right;\">\n",
       "      <th></th>\n",
       "      <th>Age</th>\n",
       "      <th>Fare</th>\n",
       "    </tr>\n",
       "  </thead>\n",
       "  <tbody>\n",
       "    <tr>\n",
       "      <th>0</th>\n",
       "      <td>-0.562867</td>\n",
       "      <td>-1.235534</td>\n",
       "    </tr>\n",
       "    <tr>\n",
       "      <th>1</th>\n",
       "      <td>0.649899</td>\n",
       "      <td>1.378913</td>\n",
       "    </tr>\n",
       "    <tr>\n",
       "      <th>2</th>\n",
       "      <td>-0.248760</td>\n",
       "      <td>-1.075612</td>\n",
       "    </tr>\n",
       "    <tr>\n",
       "      <th>3</th>\n",
       "      <td>0.430420</td>\n",
       "      <td>1.184347</td>\n",
       "    </tr>\n",
       "    <tr>\n",
       "      <th>4</th>\n",
       "      <td>0.430420</td>\n",
       "      <td>-1.048053</td>\n",
       "    </tr>\n",
       "    <tr>\n",
       "      <th>...</th>\n",
       "      <td>...</td>\n",
       "      <td>...</td>\n",
       "    </tr>\n",
       "    <tr>\n",
       "      <th>886</th>\n",
       "      <td>-0.171543</td>\n",
       "      <td>-0.283773</td>\n",
       "    </tr>\n",
       "    <tr>\n",
       "      <th>887</th>\n",
       "      <td>-0.804704</td>\n",
       "      <td>0.709348</td>\n",
       "    </tr>\n",
       "    <tr>\n",
       "      <th>888</th>\n",
       "      <td>-0.094804</td>\n",
       "      <td>0.457449</td>\n",
       "    </tr>\n",
       "    <tr>\n",
       "      <th>889</th>\n",
       "      <td>-0.248760</td>\n",
       "      <td>0.709348</td>\n",
       "    </tr>\n",
       "    <tr>\n",
       "      <th>890</th>\n",
       "      <td>0.207727</td>\n",
       "      <td>-1.115222</td>\n",
       "    </tr>\n",
       "  </tbody>\n",
       "</table>\n",
       "<p>891 rows × 2 columns</p>\n",
       "</div>"
      ],
      "text/plain": [
       "          Age      Fare\n",
       "0   -0.562867 -1.235534\n",
       "1    0.649899  1.378913\n",
       "2   -0.248760 -1.075612\n",
       "3    0.430420  1.184347\n",
       "4    0.430420 -1.048053\n",
       "..        ...       ...\n",
       "886 -0.171543 -0.283773\n",
       "887 -0.804704  0.709348\n",
       "888 -0.094804  0.457449\n",
       "889 -0.248760  0.709348\n",
       "890  0.207727 -1.115222\n",
       "\n",
       "[891 rows x 2 columns]"
      ]
     },
     "execution_count": 276,
     "metadata": {},
     "output_type": "execute_result"
    }
   ],
   "source": [
    "#using power transform to transform and normalize the dataset and storing it in A \n",
    "from sklearn.preprocessing import power_transform\n",
    "B=df[['Age','Fare']]\n",
    "A=power_transform(B)\n",
    "A=pd.DataFrame(A,columns=B.columns)\n",
    "A"
   ]
  },
  {
   "cell_type": "code",
   "execution_count": 277,
   "id": "c2ad6e04",
   "metadata": {},
   "outputs": [
    {
     "data": {
      "text/html": [
       "<div>\n",
       "<style scoped>\n",
       "    .dataframe tbody tr th:only-of-type {\n",
       "        vertical-align: middle;\n",
       "    }\n",
       "\n",
       "    .dataframe tbody tr th {\n",
       "        vertical-align: top;\n",
       "    }\n",
       "\n",
       "    .dataframe thead th {\n",
       "        text-align: right;\n",
       "    }\n",
       "</style>\n",
       "<table border=\"1\" class=\"dataframe\">\n",
       "  <thead>\n",
       "    <tr style=\"text-align: right;\">\n",
       "      <th></th>\n",
       "      <th>Survived</th>\n",
       "      <th>Pclass</th>\n",
       "      <th>Sex</th>\n",
       "      <th>Age</th>\n",
       "      <th>SibSp</th>\n",
       "      <th>Parch</th>\n",
       "      <th>Fare</th>\n",
       "      <th>Embarked</th>\n",
       "    </tr>\n",
       "  </thead>\n",
       "  <tbody>\n",
       "    <tr>\n",
       "      <th>0</th>\n",
       "      <td>0</td>\n",
       "      <td>3</td>\n",
       "      <td>male</td>\n",
       "      <td>-0.562867</td>\n",
       "      <td>1</td>\n",
       "      <td>0</td>\n",
       "      <td>-1.235534</td>\n",
       "      <td>S</td>\n",
       "    </tr>\n",
       "    <tr>\n",
       "      <th>1</th>\n",
       "      <td>1</td>\n",
       "      <td>1</td>\n",
       "      <td>female</td>\n",
       "      <td>0.649899</td>\n",
       "      <td>1</td>\n",
       "      <td>0</td>\n",
       "      <td>1.378913</td>\n",
       "      <td>C</td>\n",
       "    </tr>\n",
       "    <tr>\n",
       "      <th>2</th>\n",
       "      <td>1</td>\n",
       "      <td>3</td>\n",
       "      <td>female</td>\n",
       "      <td>-0.248760</td>\n",
       "      <td>0</td>\n",
       "      <td>0</td>\n",
       "      <td>-1.075612</td>\n",
       "      <td>S</td>\n",
       "    </tr>\n",
       "    <tr>\n",
       "      <th>3</th>\n",
       "      <td>1</td>\n",
       "      <td>1</td>\n",
       "      <td>female</td>\n",
       "      <td>0.430420</td>\n",
       "      <td>1</td>\n",
       "      <td>0</td>\n",
       "      <td>1.184347</td>\n",
       "      <td>S</td>\n",
       "    </tr>\n",
       "    <tr>\n",
       "      <th>4</th>\n",
       "      <td>0</td>\n",
       "      <td>3</td>\n",
       "      <td>male</td>\n",
       "      <td>0.430420</td>\n",
       "      <td>0</td>\n",
       "      <td>0</td>\n",
       "      <td>-1.048053</td>\n",
       "      <td>S</td>\n",
       "    </tr>\n",
       "    <tr>\n",
       "      <th>...</th>\n",
       "      <td>...</td>\n",
       "      <td>...</td>\n",
       "      <td>...</td>\n",
       "      <td>...</td>\n",
       "      <td>...</td>\n",
       "      <td>...</td>\n",
       "      <td>...</td>\n",
       "      <td>...</td>\n",
       "    </tr>\n",
       "    <tr>\n",
       "      <th>886</th>\n",
       "      <td>0</td>\n",
       "      <td>2</td>\n",
       "      <td>male</td>\n",
       "      <td>-0.171543</td>\n",
       "      <td>0</td>\n",
       "      <td>0</td>\n",
       "      <td>-0.283773</td>\n",
       "      <td>S</td>\n",
       "    </tr>\n",
       "    <tr>\n",
       "      <th>887</th>\n",
       "      <td>1</td>\n",
       "      <td>1</td>\n",
       "      <td>female</td>\n",
       "      <td>-0.804704</td>\n",
       "      <td>0</td>\n",
       "      <td>0</td>\n",
       "      <td>0.709348</td>\n",
       "      <td>S</td>\n",
       "    </tr>\n",
       "    <tr>\n",
       "      <th>888</th>\n",
       "      <td>0</td>\n",
       "      <td>3</td>\n",
       "      <td>female</td>\n",
       "      <td>-0.094804</td>\n",
       "      <td>1</td>\n",
       "      <td>2</td>\n",
       "      <td>0.457449</td>\n",
       "      <td>S</td>\n",
       "    </tr>\n",
       "    <tr>\n",
       "      <th>889</th>\n",
       "      <td>1</td>\n",
       "      <td>1</td>\n",
       "      <td>male</td>\n",
       "      <td>-0.248760</td>\n",
       "      <td>0</td>\n",
       "      <td>0</td>\n",
       "      <td>0.709348</td>\n",
       "      <td>C</td>\n",
       "    </tr>\n",
       "    <tr>\n",
       "      <th>890</th>\n",
       "      <td>0</td>\n",
       "      <td>3</td>\n",
       "      <td>male</td>\n",
       "      <td>0.207727</td>\n",
       "      <td>0</td>\n",
       "      <td>0</td>\n",
       "      <td>-1.115222</td>\n",
       "      <td>Q</td>\n",
       "    </tr>\n",
       "  </tbody>\n",
       "</table>\n",
       "<p>891 rows × 8 columns</p>\n",
       "</div>"
      ],
      "text/plain": [
       "     Survived  Pclass     Sex       Age  SibSp  Parch      Fare Embarked\n",
       "0           0       3    male -0.562867      1      0 -1.235534        S\n",
       "1           1       1  female  0.649899      1      0  1.378913        C\n",
       "2           1       3  female -0.248760      0      0 -1.075612        S\n",
       "3           1       1  female  0.430420      1      0  1.184347        S\n",
       "4           0       3    male  0.430420      0      0 -1.048053        S\n",
       "..        ...     ...     ...       ...    ...    ...       ...      ...\n",
       "886         0       2    male -0.171543      0      0 -0.283773        S\n",
       "887         1       1  female -0.804704      0      0  0.709348        S\n",
       "888         0       3  female -0.094804      1      2  0.457449        S\n",
       "889         1       1    male -0.248760      0      0  0.709348        C\n",
       "890         0       3    male  0.207727      0      0 -1.115222        Q\n",
       "\n",
       "[891 rows x 8 columns]"
      ]
     },
     "execution_count": 277,
     "metadata": {},
     "output_type": "execute_result"
    }
   ],
   "source": [
    "#storing the changes made back to df\n",
    "df[A.columns]=A.copy()\n",
    "df"
   ]
  },
  {
   "cell_type": "code",
   "execution_count": 278,
   "id": "241001db",
   "metadata": {},
   "outputs": [
    {
     "data": {
      "text/plain": [
       "Survived    0.478523\n",
       "Pclass     -0.630548\n",
       "Age         0.059667\n",
       "SibSp       3.695352\n",
       "Parch       2.749117\n",
       "Fare        0.220126\n",
       "dtype: float64"
      ]
     },
     "execution_count": 278,
     "metadata": {},
     "output_type": "execute_result"
    }
   ],
   "source": [
    "#check\n",
    "df.skew()"
   ]
  },
  {
   "cell_type": "markdown",
   "id": "909942ab",
   "metadata": {},
   "source": [
    "within acceptable limits 0.65 to -0.65"
   ]
  },
  {
   "cell_type": "markdown",
   "id": "48c776a9",
   "metadata": {},
   "source": [
    "#### Encoding"
   ]
  },
  {
   "cell_type": "code",
   "execution_count": 279,
   "id": "a41f9fc2",
   "metadata": {},
   "outputs": [
    {
     "data": {
      "text/html": [
       "<div>\n",
       "<style scoped>\n",
       "    .dataframe tbody tr th:only-of-type {\n",
       "        vertical-align: middle;\n",
       "    }\n",
       "\n",
       "    .dataframe tbody tr th {\n",
       "        vertical-align: top;\n",
       "    }\n",
       "\n",
       "    .dataframe thead th {\n",
       "        text-align: right;\n",
       "    }\n",
       "</style>\n",
       "<table border=\"1\" class=\"dataframe\">\n",
       "  <thead>\n",
       "    <tr style=\"text-align: right;\">\n",
       "      <th></th>\n",
       "      <th>Survived</th>\n",
       "      <th>Pclass</th>\n",
       "      <th>Sex</th>\n",
       "      <th>Age</th>\n",
       "      <th>SibSp</th>\n",
       "      <th>Parch</th>\n",
       "      <th>Fare</th>\n",
       "      <th>Embarked</th>\n",
       "    </tr>\n",
       "  </thead>\n",
       "  <tbody>\n",
       "    <tr>\n",
       "      <th>0</th>\n",
       "      <td>0</td>\n",
       "      <td>3</td>\n",
       "      <td>1.0</td>\n",
       "      <td>-0.562867</td>\n",
       "      <td>1</td>\n",
       "      <td>0</td>\n",
       "      <td>-1.235534</td>\n",
       "      <td>2.0</td>\n",
       "    </tr>\n",
       "    <tr>\n",
       "      <th>1</th>\n",
       "      <td>1</td>\n",
       "      <td>1</td>\n",
       "      <td>0.0</td>\n",
       "      <td>0.649899</td>\n",
       "      <td>1</td>\n",
       "      <td>0</td>\n",
       "      <td>1.378913</td>\n",
       "      <td>0.0</td>\n",
       "    </tr>\n",
       "    <tr>\n",
       "      <th>2</th>\n",
       "      <td>1</td>\n",
       "      <td>3</td>\n",
       "      <td>0.0</td>\n",
       "      <td>-0.248760</td>\n",
       "      <td>0</td>\n",
       "      <td>0</td>\n",
       "      <td>-1.075612</td>\n",
       "      <td>2.0</td>\n",
       "    </tr>\n",
       "    <tr>\n",
       "      <th>3</th>\n",
       "      <td>1</td>\n",
       "      <td>1</td>\n",
       "      <td>0.0</td>\n",
       "      <td>0.430420</td>\n",
       "      <td>1</td>\n",
       "      <td>0</td>\n",
       "      <td>1.184347</td>\n",
       "      <td>2.0</td>\n",
       "    </tr>\n",
       "    <tr>\n",
       "      <th>4</th>\n",
       "      <td>0</td>\n",
       "      <td>3</td>\n",
       "      <td>1.0</td>\n",
       "      <td>0.430420</td>\n",
       "      <td>0</td>\n",
       "      <td>0</td>\n",
       "      <td>-1.048053</td>\n",
       "      <td>2.0</td>\n",
       "    </tr>\n",
       "    <tr>\n",
       "      <th>...</th>\n",
       "      <td>...</td>\n",
       "      <td>...</td>\n",
       "      <td>...</td>\n",
       "      <td>...</td>\n",
       "      <td>...</td>\n",
       "      <td>...</td>\n",
       "      <td>...</td>\n",
       "      <td>...</td>\n",
       "    </tr>\n",
       "    <tr>\n",
       "      <th>886</th>\n",
       "      <td>0</td>\n",
       "      <td>2</td>\n",
       "      <td>1.0</td>\n",
       "      <td>-0.171543</td>\n",
       "      <td>0</td>\n",
       "      <td>0</td>\n",
       "      <td>-0.283773</td>\n",
       "      <td>2.0</td>\n",
       "    </tr>\n",
       "    <tr>\n",
       "      <th>887</th>\n",
       "      <td>1</td>\n",
       "      <td>1</td>\n",
       "      <td>0.0</td>\n",
       "      <td>-0.804704</td>\n",
       "      <td>0</td>\n",
       "      <td>0</td>\n",
       "      <td>0.709348</td>\n",
       "      <td>2.0</td>\n",
       "    </tr>\n",
       "    <tr>\n",
       "      <th>888</th>\n",
       "      <td>0</td>\n",
       "      <td>3</td>\n",
       "      <td>0.0</td>\n",
       "      <td>-0.094804</td>\n",
       "      <td>1</td>\n",
       "      <td>2</td>\n",
       "      <td>0.457449</td>\n",
       "      <td>2.0</td>\n",
       "    </tr>\n",
       "    <tr>\n",
       "      <th>889</th>\n",
       "      <td>1</td>\n",
       "      <td>1</td>\n",
       "      <td>1.0</td>\n",
       "      <td>-0.248760</td>\n",
       "      <td>0</td>\n",
       "      <td>0</td>\n",
       "      <td>0.709348</td>\n",
       "      <td>0.0</td>\n",
       "    </tr>\n",
       "    <tr>\n",
       "      <th>890</th>\n",
       "      <td>0</td>\n",
       "      <td>3</td>\n",
       "      <td>1.0</td>\n",
       "      <td>0.207727</td>\n",
       "      <td>0</td>\n",
       "      <td>0</td>\n",
       "      <td>-1.115222</td>\n",
       "      <td>1.0</td>\n",
       "    </tr>\n",
       "  </tbody>\n",
       "</table>\n",
       "<p>891 rows × 8 columns</p>\n",
       "</div>"
      ],
      "text/plain": [
       "     Survived  Pclass  Sex       Age  SibSp  Parch      Fare  Embarked\n",
       "0           0       3  1.0 -0.562867      1      0 -1.235534       2.0\n",
       "1           1       1  0.0  0.649899      1      0  1.378913       0.0\n",
       "2           1       3  0.0 -0.248760      0      0 -1.075612       2.0\n",
       "3           1       1  0.0  0.430420      1      0  1.184347       2.0\n",
       "4           0       3  1.0  0.430420      0      0 -1.048053       2.0\n",
       "..        ...     ...  ...       ...    ...    ...       ...       ...\n",
       "886         0       2  1.0 -0.171543      0      0 -0.283773       2.0\n",
       "887         1       1  0.0 -0.804704      0      0  0.709348       2.0\n",
       "888         0       3  0.0 -0.094804      1      2  0.457449       2.0\n",
       "889         1       1  1.0 -0.248760      0      0  0.709348       0.0\n",
       "890         0       3  1.0  0.207727      0      0 -1.115222       1.0\n",
       "\n",
       "[891 rows x 8 columns]"
      ]
     },
     "execution_count": 279,
     "metadata": {},
     "output_type": "execute_result"
    }
   ],
   "source": [
    "from sklearn.preprocessing import OrdinalEncoder\n",
    "oe=OrdinalEncoder()\n",
    "objectColumns=df[['Sex','Embarked']]\n",
    "for i in objectColumns.columns:\n",
    "    df[i]=oe.fit_transform(df[i].values.reshape(-1,1))\n",
    "df"
   ]
  },
  {
   "cell_type": "markdown",
   "id": "b80d9147",
   "metadata": {},
   "source": [
    "#### checking correlation"
   ]
  },
  {
   "cell_type": "code",
   "execution_count": 280,
   "id": "60f536c2",
   "metadata": {},
   "outputs": [
    {
     "data": {
      "text/plain": [
       "Sex        -0.543351\n",
       "Pclass     -0.338481\n",
       "Embarked   -0.167675\n",
       "Age        -0.089109\n",
       "SibSp      -0.035322\n",
       "Parch       0.081629\n",
       "Fare        0.313561\n",
       "Survived    1.000000\n",
       "Name: Survived, dtype: float64"
      ]
     },
     "execution_count": 280,
     "metadata": {},
     "output_type": "execute_result"
    }
   ],
   "source": [
    "df.corr()[\"Survived\"].sort_values()"
   ]
  },
  {
   "cell_type": "markdown",
   "id": "a208dc81",
   "metadata": {},
   "source": [
    "SibSp has the least correlation 0.03 and the maximum correlation is with Sex -0.54"
   ]
  },
  {
   "cell_type": "code",
   "execution_count": 281,
   "id": "5d734c9a",
   "metadata": {},
   "outputs": [
    {
     "data": {
      "image/png": "[encoded data removed]",
      "text/plain": [
       "<Figure size 720x432 with 2 Axes>"
      ]
     },
     "metadata": {
      "needs_background": "light"
     },
     "output_type": "display_data"
    }
   ],
   "source": [
    "#plotting heatmap to see the correlation \n",
    "plt.figure(figsize=(10,6))\n",
    "sns.heatmap(df.corr(),annot=True,cmap=\"YlGnBu\")\n",
    "plt.title(\"Correlation Plot-Heat Map\")\n",
    "plt.show()"
   ]
  },
  {
   "cell_type": "markdown",
   "id": "b4f1ca25",
   "metadata": {},
   "source": [
    "the highest feature to feature correlation is -0.56 between Pclass and Fare"
   ]
  },
  {
   "cell_type": "code",
   "execution_count": 282,
   "id": "2708705b",
   "metadata": {},
   "outputs": [
    {
     "data": {
      "text/html": [
       "<div>\n",
       "<style scoped>\n",
       "    .dataframe tbody tr th:only-of-type {\n",
       "        vertical-align: middle;\n",
       "    }\n",
       "\n",
       "    .dataframe tbody tr th {\n",
       "        vertical-align: top;\n",
       "    }\n",
       "\n",
       "    .dataframe thead th {\n",
       "        text-align: right;\n",
       "    }\n",
       "</style>\n",
       "<table border=\"1\" class=\"dataframe\">\n",
       "  <thead>\n",
       "    <tr style=\"text-align: right;\">\n",
       "      <th></th>\n",
       "      <th>vif</th>\n",
       "      <th>features</th>\n",
       "    </tr>\n",
       "  </thead>\n",
       "  <tbody>\n",
       "    <tr>\n",
       "      <th>0</th>\n",
       "      <td>1.667952</td>\n",
       "      <td>Pclass</td>\n",
       "    </tr>\n",
       "    <tr>\n",
       "      <th>1</th>\n",
       "      <td>4.030547</td>\n",
       "      <td>Sex</td>\n",
       "    </tr>\n",
       "    <tr>\n",
       "      <th>2</th>\n",
       "      <td>1.524533</td>\n",
       "      <td>Age</td>\n",
       "    </tr>\n",
       "    <tr>\n",
       "      <th>3</th>\n",
       "      <td>1.262438</td>\n",
       "      <td>SibSp</td>\n",
       "    </tr>\n",
       "    <tr>\n",
       "      <th>4</th>\n",
       "      <td>1.724383</td>\n",
       "      <td>Parch</td>\n",
       "    </tr>\n",
       "    <tr>\n",
       "      <th>5</th>\n",
       "      <td>1.531834</td>\n",
       "      <td>Fare</td>\n",
       "    </tr>\n",
       "    <tr>\n",
       "      <th>6</th>\n",
       "      <td>4.606251</td>\n",
       "      <td>Embarked</td>\n",
       "    </tr>\n",
       "  </tbody>\n",
       "</table>\n",
       "</div>"
      ],
      "text/plain": [
       "        vif  features\n",
       "0  1.667952    Pclass\n",
       "1  4.030547       Sex\n",
       "2  1.524533       Age\n",
       "3  1.262438     SibSp\n",
       "4  1.724383     Parch\n",
       "5  1.531834      Fare\n",
       "6  4.606251  Embarked"
      ]
     },
     "execution_count": 282,
     "metadata": {},
     "output_type": "execute_result"
    }
   ],
   "source": [
    "#checking for multicollinearity by using vif\n",
    "from sklearn.preprocessing import StandardScaler\n",
    "sc=StandardScaler()\n",
    "t=df.drop('Survived',axis=1)\n",
    "d=sc.fit_transform(df)\n",
    "from statsmodels.stats.outliers_influence import variance_inflation_factor\n",
    "vif=pd.DataFrame()\n",
    "vif['vif']=[variance_inflation_factor(d, i)for i in range(len(t.columns))]\n",
    "vif['features']=t.columns\n",
    "vif"
   ]
  },
  {
   "cell_type": "markdown",
   "id": "3fc03c5c",
   "metadata": {},
   "source": [
    "the vif values is less than 10 "
   ]
  },
  {
   "cell_type": "markdown",
   "id": "828e048f",
   "metadata": {},
   "source": [
    "#### Removing outliers using z score"
   ]
  },
  {
   "cell_type": "code",
   "execution_count": 283,
   "id": "fbeddc21",
   "metadata": {},
   "outputs": [
    {
     "name": "stdout",
     "output_type": "stream",
     "text": [
      "data loss  5.274971941638609  %\n"
     ]
    }
   ],
   "source": [
    "from scipy.stats import zscore\n",
    "z=np.abs(zscore(df))\n",
    "df_x=df[(z<3).all(axis=1)]\n",
    "data_loss=((df.shape[0]-df_x.shape[0])/df.shape[0])*100\n",
    "print(\"data loss \", data_loss, \" %\")"
   ]
  },
  {
   "cell_type": "markdown",
   "id": "4794c443",
   "metadata": {},
   "source": [
    "#### spliting data"
   ]
  },
  {
   "cell_type": "code",
   "execution_count": 284,
   "id": "15e0114c",
   "metadata": {},
   "outputs": [],
   "source": [
    "X=df_x.drop(['Survived'],axis=1)\n",
    "Y=df_x['Survived']"
   ]
  },
  {
   "cell_type": "markdown",
   "id": "b5ed438a",
   "metadata": {},
   "source": [
    "#### SMOTE adding some dummy datas to survivers list to increase the ratio to 0.75"
   ]
  },
  {
   "cell_type": "code",
   "execution_count": 285,
   "id": "d47df2e2",
   "metadata": {},
   "outputs": [],
   "source": [
    "import six\n",
    "import joblib\n",
    "import sys\n",
    "sys.modules['sklearn.externals.six']=six\n",
    "sys.modules['sklearn.externals.joblib']=joblib\n",
    "from imblearn.over_sampling import SMOTE"
   ]
  },
  {
   "cell_type": "code",
   "execution_count": 286,
   "id": "1cd987e6",
   "metadata": {},
   "outputs": [
    {
     "data": {
      "text/html": [
       "<div>\n",
       "<style scoped>\n",
       "    .dataframe tbody tr th:only-of-type {\n",
       "        vertical-align: middle;\n",
       "    }\n",
       "\n",
       "    .dataframe tbody tr th {\n",
       "        vertical-align: top;\n",
       "    }\n",
       "\n",
       "    .dataframe thead th {\n",
       "        text-align: right;\n",
       "    }\n",
       "</style>\n",
       "<table border=\"1\" class=\"dataframe\">\n",
       "  <thead>\n",
       "    <tr style=\"text-align: right;\">\n",
       "      <th></th>\n",
       "      <th>Pclass</th>\n",
       "      <th>Sex</th>\n",
       "      <th>Age</th>\n",
       "      <th>SibSp</th>\n",
       "      <th>Parch</th>\n",
       "      <th>Fare</th>\n",
       "      <th>Embarked</th>\n",
       "    </tr>\n",
       "  </thead>\n",
       "  <tbody>\n",
       "    <tr>\n",
       "      <th>0</th>\n",
       "      <td>3</td>\n",
       "      <td>1.000000</td>\n",
       "      <td>-0.562867</td>\n",
       "      <td>1</td>\n",
       "      <td>0</td>\n",
       "      <td>-1.235534</td>\n",
       "      <td>2.0</td>\n",
       "    </tr>\n",
       "    <tr>\n",
       "      <th>1</th>\n",
       "      <td>1</td>\n",
       "      <td>0.000000</td>\n",
       "      <td>0.649899</td>\n",
       "      <td>1</td>\n",
       "      <td>0</td>\n",
       "      <td>1.378913</td>\n",
       "      <td>0.0</td>\n",
       "    </tr>\n",
       "    <tr>\n",
       "      <th>2</th>\n",
       "      <td>3</td>\n",
       "      <td>0.000000</td>\n",
       "      <td>-0.248760</td>\n",
       "      <td>0</td>\n",
       "      <td>0</td>\n",
       "      <td>-1.075612</td>\n",
       "      <td>2.0</td>\n",
       "    </tr>\n",
       "    <tr>\n",
       "      <th>3</th>\n",
       "      <td>1</td>\n",
       "      <td>0.000000</td>\n",
       "      <td>0.430420</td>\n",
       "      <td>1</td>\n",
       "      <td>0</td>\n",
       "      <td>1.184347</td>\n",
       "      <td>2.0</td>\n",
       "    </tr>\n",
       "    <tr>\n",
       "      <th>4</th>\n",
       "      <td>3</td>\n",
       "      <td>1.000000</td>\n",
       "      <td>0.430420</td>\n",
       "      <td>0</td>\n",
       "      <td>0</td>\n",
       "      <td>-1.048053</td>\n",
       "      <td>2.0</td>\n",
       "    </tr>\n",
       "    <tr>\n",
       "      <th>...</th>\n",
       "      <td>...</td>\n",
       "      <td>...</td>\n",
       "      <td>...</td>\n",
       "      <td>...</td>\n",
       "      <td>...</td>\n",
       "      <td>...</td>\n",
       "      <td>...</td>\n",
       "    </tr>\n",
       "    <tr>\n",
       "      <th>887</th>\n",
       "      <td>1</td>\n",
       "      <td>0.912084</td>\n",
       "      <td>2.159459</td>\n",
       "      <td>0</td>\n",
       "      <td>1</td>\n",
       "      <td>1.443815</td>\n",
       "      <td>0.0</td>\n",
       "    </tr>\n",
       "    <tr>\n",
       "      <th>888</th>\n",
       "      <td>1</td>\n",
       "      <td>0.000000</td>\n",
       "      <td>1.080329</td>\n",
       "      <td>0</td>\n",
       "      <td>0</td>\n",
       "      <td>1.138051</td>\n",
       "      <td>0.0</td>\n",
       "    </tr>\n",
       "    <tr>\n",
       "      <th>889</th>\n",
       "      <td>1</td>\n",
       "      <td>0.000000</td>\n",
       "      <td>0.146492</td>\n",
       "      <td>0</td>\n",
       "      <td>0</td>\n",
       "      <td>1.666559</td>\n",
       "      <td>2.0</td>\n",
       "    </tr>\n",
       "    <tr>\n",
       "      <th>890</th>\n",
       "      <td>2</td>\n",
       "      <td>0.000000</td>\n",
       "      <td>0.823887</td>\n",
       "      <td>0</td>\n",
       "      <td>0</td>\n",
       "      <td>-0.283773</td>\n",
       "      <td>2.0</td>\n",
       "    </tr>\n",
       "    <tr>\n",
       "      <th>891</th>\n",
       "      <td>3</td>\n",
       "      <td>0.000000</td>\n",
       "      <td>-0.094804</td>\n",
       "      <td>1</td>\n",
       "      <td>0</td>\n",
       "      <td>-0.040901</td>\n",
       "      <td>1.0</td>\n",
       "    </tr>\n",
       "  </tbody>\n",
       "</table>\n",
       "<p>892 rows × 7 columns</p>\n",
       "</div>"
      ],
      "text/plain": [
       "     Pclass       Sex       Age  SibSp  Parch      Fare  Embarked\n",
       "0         3  1.000000 -0.562867      1      0 -1.235534       2.0\n",
       "1         1  0.000000  0.649899      1      0  1.378913       0.0\n",
       "2         3  0.000000 -0.248760      0      0 -1.075612       2.0\n",
       "3         1  0.000000  0.430420      1      0  1.184347       2.0\n",
       "4         3  1.000000  0.430420      0      0 -1.048053       2.0\n",
       "..      ...       ...       ...    ...    ...       ...       ...\n",
       "887       1  0.912084  2.159459      0      1  1.443815       0.0\n",
       "888       1  0.000000  1.080329      0      0  1.138051       0.0\n",
       "889       1  0.000000  0.146492      0      0  1.666559       2.0\n",
       "890       2  0.000000  0.823887      0      0 -0.283773       2.0\n",
       "891       3  0.000000 -0.094804      1      0 -0.040901       1.0\n",
       "\n",
       "[892 rows x 7 columns]"
      ]
     },
     "execution_count": 286,
     "metadata": {},
     "output_type": "execute_result"
    }
   ],
   "source": [
    "# by using smote we are adding data to survied(1) such that the ratio between 1 and 0 becomes 0.75\n",
    "ove_sm=SMOTE(0.75)\n",
    "X_s,Y_s=ove_sm.fit_resample(X,Y)\n",
    "X_s"
   ]
  },
  {
   "cell_type": "code",
   "execution_count": 287,
   "id": "50960fc3",
   "metadata": {},
   "outputs": [
    {
     "data": {
      "image/png": "[encoded data removed]",
      "text/plain": [
       "<Figure size 432x288 with 1 Axes>"
      ]
     },
     "metadata": {
      "needs_background": "light"
     },
     "output_type": "display_data"
    },
    {
     "data": {
      "text/plain": [
       "Counter({0: 510, 1: 382})"
      ]
     },
     "execution_count": 287,
     "metadata": {},
     "output_type": "execute_result"
    }
   ],
   "source": [
    "# plotting to verify the impact of smote on (1) survived\n",
    "sns.countplot(x=Y_s)\n",
    "plt.show()\n",
    "from collections import Counter\n",
    "Counter(Y_s)"
   ]
  },
  {
   "cell_type": "markdown",
   "id": "eb8ff07b",
   "metadata": {},
   "source": [
    "ratio between 1 and 0 is 0.75"
   ]
  },
  {
   "cell_type": "markdown",
   "id": "62c093b3",
   "metadata": {},
   "source": [
    "#### Running Algorithm"
   ]
  },
  {
   "cell_type": "code",
   "execution_count": 288,
   "id": "54949ae0",
   "metadata": {},
   "outputs": [],
   "source": [
    "#importing necessary librairies \n",
    "#A=[] // stores test accuracy\n",
    "#B=[] // stores cv_mean \n",
    "#C=[] // stores mean_squared_error\n",
    "#D=[] // min diff between test accuracy and cv_score\n",
    "#mae=[] // stores mean_absolute_error\n",
    "\n",
    "\n",
    "from sklearn.metrics import roc_auc_score\n",
    "from sklearn.model_selection import train_test_split\n",
    "from sklearn.model_selection import cross_val_score\n",
    "from sklearn.metrics import confusion_matrix\n",
    "from sklearn.metrics import classification_report\n",
    "from sklearn.metrics import f1_score\n",
    "from sklearn.metrics import mean_squared_error\n",
    "from sklearn.metrics import mean_absolute_error\n",
    "A=[]\n",
    "B=[]\n",
    "C=[]\n",
    "D=[]\n",
    "E=[]\n",
    "mae=[]"
   ]
  },
  {
   "cell_type": "code",
   "execution_count": 289,
   "id": "bb8dbbcf",
   "metadata": {},
   "outputs": [],
   "source": [
    "#loop used to find the best random state\n",
    "def max_aucroc_score(regr,X,Y):\n",
    "    max_aucroc_score=0\n",
    "    for r_state in range(0,100):\n",
    "        x_train, x_test, y_train, y_test = train_test_split(X, Y, random_state = r_state, test_size=0.20,stratify=Y)\n",
    "        regr.fit(x_train,y_train)\n",
    "        y_pred = regr.predict(x_test)\n",
    "        aucroc_scr=(roc_auc_score(y_test,y_pred))*100\n",
    "        print(\"auc roc score corresponding to \",r_state,\" is \",aucroc_scr)\n",
    "        if aucroc_scr>max_aucroc_score:\n",
    "            max_aucroc_score=aucroc_scr\n",
    "            final_r_state=r_state\n",
    "    print(\"max auc roc score corresponding to \",final_r_state,\" is \",max_aucroc_score)\n",
    "    return final_r_state"
   ]
  },
  {
   "cell_type": "code",
   "execution_count": 290,
   "id": "ae8e3f2f",
   "metadata": {},
   "outputs": [],
   "source": [
    "# used to get test accuracy, train accuracy, mse, mae,F1score,confusion matrix,classification report and auc score\n",
    "def te_t(regr,x_train,x_test,y_train,y_test):\n",
    "    regr.fit(x_train,y_train)\n",
    "    y_tr=regr.predict(x_train)\n",
    "    y_te=regr.predict(x_test)\n",
    "    print(f\"test accuracy is {round(roc_auc_score(y_test,y_te)*100,1)}\")\n",
    "    A.append(round(roc_auc_score(y_test,y_te)*100,1))\n",
    "    print(f\"train accuracy is {round(roc_auc_score(y_train,y_tr)*100,1)}\")\n",
    "    C.append(mean_squared_error(y_test,y_te))\n",
    "    mae.append(mean_absolute_error(y_test,y_te))\n",
    "    print(\"Confusion matrix \\n\",confusion_matrix(y_test,y_te))\n",
    "    print(\"f1 score is : \",f1_score(y_test,y_te))\n",
    "    E.append(f1_score(y_test,y_te))\n",
    "    print('\\n')\n",
    "    print(\"classification report \\n\",classification_report(y_test,y_te))\n",
    "    print(\"AUC ROC Score: \",roc_auc_score(y_test,y_te))"
   ]
  },
  {
   "cell_type": "code",
   "execution_count": 291,
   "id": "94518df2",
   "metadata": {},
   "outputs": [],
   "source": [
    "# used to find the best cv_score\n",
    "def score(regr,x_train,x_test,y_train,y_test):\n",
    "    max_cv_mean=0\n",
    "    min_dif=100\n",
    "    r=0\n",
    "    k=0\n",
    "    y_tr=regr.predict(x_train)\n",
    "    y_te=regr.predict(x_test)\n",
    "    t_ac=round(roc_auc_score(y_train,y_tr)*100,1)\n",
    "    te_ac=round(roc_auc_score(y_test,y_te)*100,1)\n",
    "    for j in range(2,20):\n",
    "        cv_score=cross_val_score(regr,X,Y,cv=j)\n",
    "        cv_mean=cv_score.mean()*100\n",
    "        d=np.abs(cv_mean-te_ac)\n",
    "        print(f\"At cv is {j} cv score is {round(cv_mean,2)}  \\n test accuracy is {te_ac} \\n\")\n",
    "        if cv_mean>max_cv_mean:\n",
    "            max_cv_mean=cv_mean\n",
    "            k=j\n",
    "        if d<min_dif:\n",
    "            min_dif=d\n",
    "            r=j\n",
    "    B.append(max_cv_mean) \n",
    "    print(\"min diff between test accuracy and cv score \",min_dif,\" at \", r,\" max cv \",max_cv_mean,\" at \",k)\n",
    "    D.append(min_dif)\n",
    "    "
   ]
  },
  {
   "cell_type": "code",
   "execution_count": 292,
   "id": "d563a86d",
   "metadata": {},
   "outputs": [
    {
     "name": "stdout",
     "output_type": "stream",
     "text": [
      "auc roc score corresponding to  0  is  72.81972490488732\n",
      "auc roc score corresponding to  1  is  79.2361720807726\n",
      "auc roc score corresponding to  2  is  76.74129353233832\n",
      "auc roc score corresponding to  3  is  74.0342405618964\n",
      "auc roc score corresponding to  4  is  76.48522095405326\n",
      "auc roc score corresponding to  5  is  78.21188176763243\n",
      "auc roc score corresponding to  6  is  75.24875621890547\n",
      "auc roc score corresponding to  7  is  77.44366403277729\n",
      "auc roc score corresponding to  8  is  82.90166812993853\n",
      "auc roc score corresponding to  9  is  80.75065847234416\n",
      "auc roc score corresponding to  10  is  78.4899034240562\n",
      "auc roc score corresponding to  11  is  74.78050921861283\n",
      "auc roc score corresponding to  12  is  75.03658179689786\n",
      "auc roc score corresponding to  13  is  72.7758267486099\n",
      "auc roc score corresponding to  14  is  77.20954053263097\n",
      "auc roc score corresponding to  15  is  81.19695639449812\n",
      "auc roc score corresponding to  16  is  74.99268364062043\n",
      "auc roc score corresponding to  17  is  68.06409130816506\n",
      "auc roc score corresponding to  18  is  73.5220954053263\n",
      "auc roc score corresponding to  19  is  79.93854258121158\n",
      "auc roc score corresponding to  20  is  75.03658179689786\n",
      "auc roc score corresponding to  21  is  78.51185250219491\n",
      "auc roc score corresponding to  22  is  77.2534386889084\n",
      "auc roc score corresponding to  23  is  82.87971905179981\n",
      "auc roc score corresponding to  24  is  81.2189054726368\n",
      "auc roc score corresponding to  25  is  79.44834650278021\n",
      "auc roc score corresponding to  26  is  76.29499561018437\n",
      "auc roc score corresponding to  27  is  76.03892303189932\n",
      "auc roc score corresponding to  28  is  81.24085455077554\n",
      "auc roc score corresponding to  29  is  75.52677787532923\n",
      "auc roc score corresponding to  30  is  76.71934445419959\n",
      "auc roc score corresponding to  31  is  77.95580918934738\n",
      "auc roc score corresponding to  32  is  76.29499561018437\n",
      "auc roc score corresponding to  33  is  78.25577992390987\n",
      "auc roc score corresponding to  34  is  78.25577992390987\n",
      "auc roc score corresponding to  35  is  79.2142230026339\n",
      "auc roc score corresponding to  36  is  77.27538776704712\n",
      "auc roc score corresponding to  37  is  79.19227392449517\n",
      "auc roc score corresponding to  38  is  79.72636815920399\n",
      "auc roc score corresponding to  39  is  77.2534386889084\n",
      "auc roc score corresponding to  40  is  75.9950248756219\n",
      "auc roc score corresponding to  41  is  75.52677787532923\n",
      "auc roc score corresponding to  42  is  74.29031314018145\n",
      "auc roc score corresponding to  43  is  75.27070529704419\n",
      "auc roc score corresponding to  44  is  75.50482879719051\n",
      "auc roc score corresponding to  45  is  75.52677787532923\n",
      "auc roc score corresponding to  46  is  73.05384840503366\n",
      "auc roc score corresponding to  47  is  70.32484635645302\n",
      "auc roc score corresponding to  48  is  75.73895229733685\n",
      "auc roc score corresponding to  49  is  79.44834650278021\n",
      "auc roc score corresponding to  50  is  73.28797190518\n",
      "auc roc score corresponding to  51  is  79.70441908106527\n",
      "auc roc score corresponding to  52  is  73.77816798361137\n",
      "auc roc score corresponding to  53  is  70.8150424348844\n",
      "auc roc score corresponding to  54  is  76.97541703248463\n",
      "auc roc score corresponding to  55  is  81.7310506292069\n",
      "auc roc score corresponding to  56  is  77.48756218905471\n",
      "auc roc score corresponding to  57  is  73.80011706175009\n",
      "auc roc score corresponding to  58  is  75.76090137547557\n",
      "auc roc score corresponding to  59  is  75.76090137547557\n",
      "auc roc score corresponding to  60  is  83.22358794263974\n",
      "auc roc score corresponding to  61  is  80.72870939420544\n",
      "auc roc score corresponding to  62  is  82.22124670763827\n",
      "auc roc score corresponding to  63  is  75.50482879719051\n",
      "auc roc score corresponding to  64  is  79.9604916593503\n",
      "auc roc score corresponding to  65  is  76.76324261047704\n",
      "auc roc score corresponding to  66  is  71.07111501316945\n",
      "auc roc score corresponding to  67  is  77.50951126719345\n",
      "auc roc score corresponding to  68  is  75.57067603160668\n",
      "auc roc score corresponding to  69  is  76.22914837576822\n",
      "auc roc score corresponding to  70  is  78.4899034240562\n",
      "auc roc score corresponding to  71  is  77.99970734562481\n",
      "auc roc score corresponding to  72  is  78.21188176763243\n",
      "auc roc score corresponding to  73  is  77.76558384547849\n",
      "auc roc score corresponding to  74  is  75.54872695346795\n",
      "auc roc score corresponding to  75  is  77.76558384547849\n",
      "auc roc score corresponding to  76  is  78.23383084577115\n",
      "auc roc score corresponding to  77  is  79.28007023705004\n",
      "auc roc score corresponding to  78  is  79.93854258121158\n",
      "auc roc score corresponding to  79  is  77.99970734562481\n",
      "auc roc score corresponding to  80  is  78.51185250219491\n",
      "auc roc score corresponding to  81  is  78.74597600234124\n",
      "auc roc score corresponding to  82  is  76.25109745390694\n",
      "auc roc score corresponding to  83  is  79.49224465905765\n",
      "auc roc score corresponding to  84  is  72.2636815920398\n",
      "auc roc score corresponding to  85  is  78.7020778460638\n",
      "auc roc score corresponding to  86  is  79.2361720807726\n",
      "auc roc score corresponding to  87  is  75.9950248756219\n",
      "auc roc score corresponding to  88  is  75.54872695346795\n",
      "auc roc score corresponding to  89  is  75.76090137547557\n",
      "auc roc score corresponding to  90  is  72.2636815920398\n",
      "auc roc score corresponding to  91  is  75.52677787532923\n",
      "auc roc score corresponding to  92  is  75.35850160959906\n",
      "auc roc score corresponding to  93  is  80.70676031606672\n",
      "auc roc score corresponding to  94  is  76.0169739537606\n",
      "auc roc score corresponding to  95  is  78.51185250219491\n",
      "auc roc score corresponding to  96  is  78.21188176763243\n",
      "auc roc score corresponding to  97  is  76.78519168861574\n",
      "auc roc score corresponding to  98  is  80.23851331577406\n",
      "auc roc score corresponding to  99  is  82.17734855136084\n",
      "max auc roc score corresponding to  60  is  83.22358794263974\n"
     ]
    }
   ],
   "source": [
    "from sklearn.tree import DecisionTreeClassifier\n",
    "reg=DecisionTreeClassifier()\n",
    "R=max_aucroc_score(reg,X,Y)"
   ]
  },
  {
   "cell_type": "code",
   "execution_count": 293,
   "id": "b7c43f65",
   "metadata": {},
   "outputs": [
    {
     "name": "stdout",
     "output_type": "stream",
     "text": [
      "test accuracy is 77.0\n",
      "train accuracy is 98.1\n",
      "Confusion matrix \n",
      " [[81 21]\n",
      " [17 50]]\n",
      "f1 score is :  0.7246376811594204\n",
      "\n",
      "\n",
      "classification report \n",
      "               precision    recall  f1-score   support\n",
      "\n",
      "           0       0.83      0.79      0.81       102\n",
      "           1       0.70      0.75      0.72        67\n",
      "\n",
      "    accuracy                           0.78       169\n",
      "   macro avg       0.77      0.77      0.77       169\n",
      "weighted avg       0.78      0.78      0.78       169\n",
      "\n",
      "AUC ROC Score:  0.7701931518876208\n",
      "\n",
      "\n",
      "At cv is 2 cv score is 76.54  \n",
      " test accuracy is 77.0 \n",
      "\n",
      "At cv is 3 cv score is 76.42  \n",
      " test accuracy is 77.0 \n",
      "\n",
      "At cv is 4 cv score is 77.25  \n",
      " test accuracy is 77.0 \n",
      "\n",
      "At cv is 5 cv score is 77.37  \n",
      " test accuracy is 77.0 \n",
      "\n",
      "At cv is 6 cv score is 76.89  \n",
      " test accuracy is 77.0 \n",
      "\n",
      "At cv is 7 cv score is 78.21  \n",
      " test accuracy is 77.0 \n",
      "\n",
      "At cv is 8 cv score is 78.68  \n",
      " test accuracy is 77.0 \n",
      "\n",
      "At cv is 9 cv score is 78.08  \n",
      " test accuracy is 77.0 \n",
      "\n",
      "At cv is 10 cv score is 77.86  \n",
      " test accuracy is 77.0 \n",
      "\n",
      "At cv is 11 cv score is 76.9  \n",
      " test accuracy is 77.0 \n",
      "\n",
      "At cv is 12 cv score is 77.5  \n",
      " test accuracy is 77.0 \n",
      "\n",
      "At cv is 13 cv score is 77.74  \n",
      " test accuracy is 77.0 \n",
      "\n",
      "At cv is 14 cv score is 76.68  \n",
      " test accuracy is 77.0 \n",
      "\n",
      "At cv is 15 cv score is 78.58  \n",
      " test accuracy is 77.0 \n",
      "\n",
      "At cv is 16 cv score is 77.39  \n",
      " test accuracy is 77.0 \n",
      "\n",
      "At cv is 17 cv score is 76.79  \n",
      " test accuracy is 77.0 \n",
      "\n",
      "At cv is 18 cv score is 77.02  \n",
      " test accuracy is 77.0 \n",
      "\n",
      "At cv is 19 cv score is 77.39  \n",
      " test accuracy is 77.0 \n",
      "\n",
      "min diff between test accuracy and cv score  0.02487408777881228  at  18  max cv  78.6803683737646  at  8\n"
     ]
    }
   ],
   "source": [
    "x1_train,x1_test,y1_train,y1_test=train_test_split(X,Y,random_state=R,test_size=0.2)\n",
    "te_t(reg,x1_train,x1_test,y1_train,y1_test)\n",
    "print('\\n')\n",
    "score(reg,x1_train,x1_test,y1_train,y1_test)"
   ]
  },
  {
   "cell_type": "code",
   "execution_count": 294,
   "id": "e4a52a87",
   "metadata": {},
   "outputs": [
    {
     "name": "stdout",
     "output_type": "stream",
     "text": [
      "auc roc score corresponding to  0  is  85.18437225636522\n",
      "auc roc score corresponding to  1  is  81.43107989464443\n",
      "auc roc score corresponding to  2  is  76.74129353233832\n",
      "auc roc score corresponding to  3  is  77.97775826748608\n",
      "auc roc score corresponding to  4  is  81.19695639449812\n",
      "auc roc score corresponding to  5  is  81.17500731635937\n",
      "auc roc score corresponding to  6  is  77.72168568920105\n",
      "auc roc score corresponding to  7  is  82.15539947322213\n",
      "auc roc score corresponding to  8  is  82.15539947322213\n",
      "auc roc score corresponding to  9  is  80.21656423763534\n",
      "auc roc score corresponding to  10  is  75.24875621890547\n",
      "auc roc score corresponding to  11  is  77.72168568920105\n",
      "auc roc score corresponding to  12  is  78.25577992390987\n",
      "auc roc score corresponding to  13  is  76.71934445419959\n",
      "auc roc score corresponding to  14  is  77.69973661106233\n",
      "auc roc score corresponding to  15  is  81.2189054726368\n",
      "auc roc score corresponding to  16  is  77.23148961076967\n",
      "auc roc score corresponding to  17  is  75.73895229733685\n",
      "auc roc score corresponding to  18  is  76.0169739537606\n",
      "auc roc score corresponding to  19  is  80.42873865964295\n",
      "auc roc score corresponding to  20  is  77.46561311091601\n",
      "auc roc score corresponding to  21  is  85.1624231782265\n",
      "auc roc score corresponding to  22  is  78.46795434591746\n",
      "auc roc score corresponding to  23  is  76.95346795434592\n",
      "auc roc score corresponding to  24  is  83.43576236464736\n",
      "auc roc score corresponding to  25  is  82.15539947322213\n",
      "auc roc score corresponding to  26  is  75.80479953175299\n",
      "auc roc score corresponding to  27  is  77.74363476733977\n",
      "auc roc score corresponding to  28  is  83.92595844307873\n",
      "auc roc score corresponding to  29  is  75.03658179689786\n",
      "auc roc score corresponding to  30  is  81.66520339479075\n",
      "auc roc score corresponding to  31  is  78.91425226807142\n",
      "auc roc score corresponding to  32  is  79.9604916593503\n",
      "auc roc score corresponding to  33  is  80.00438981562775\n",
      "auc roc score corresponding to  34  is  78.74597600234124\n",
      "auc roc score corresponding to  35  is  82.90166812993853\n",
      "auc roc score corresponding to  36  is  78.74597600234124\n",
      "auc roc score corresponding to  37  is  78.95815042434884\n",
      "auc roc score corresponding to  38  is  83.1796897863623\n",
      "auc roc score corresponding to  39  is  80.21656423763534\n",
      "auc roc score corresponding to  40  is  82.15539947322213\n",
      "auc roc score corresponding to  41  is  79.2142230026339\n",
      "auc roc score corresponding to  42  is  78.1899326894937\n",
      "auc roc score corresponding to  43  is  79.72636815920399\n",
      "auc roc score corresponding to  44  is  78.72402692420252\n",
      "auc roc score corresponding to  45  is  77.48756218905471\n",
      "auc roc score corresponding to  46  is  72.28563067017852\n",
      "auc roc score corresponding to  47  is  77.20954053263097\n",
      "auc roc score corresponding to  48  is  81.17500731635937\n",
      "auc roc score corresponding to  49  is  80.42873865964295\n",
      "auc roc score corresponding to  50  is  78.23383084577115\n",
      "auc roc score corresponding to  51  is  79.44834650278021\n",
      "auc roc score corresponding to  52  is  78.7020778460638\n",
      "auc roc score corresponding to  53  is  75.9950248756219\n",
      "auc roc score corresponding to  54  is  77.20954053263097\n",
      "auc roc score corresponding to  55  is  83.94790752121743\n",
      "auc roc score corresponding to  56  is  77.46561311091601\n",
      "auc roc score corresponding to  57  is  76.22914837576822\n",
      "auc roc score corresponding to  58  is  78.21188176763243\n",
      "auc roc score corresponding to  59  is  80.21656423763534\n",
      "auc roc score corresponding to  60  is  84.2039800995025\n",
      "auc roc score corresponding to  61  is  82.68949370793092\n",
      "auc roc score corresponding to  62  is  85.67456833479662\n",
      "auc roc score corresponding to  63  is  75.71700321919812\n",
      "auc roc score corresponding to  64  is  81.45302897278314\n",
      "auc roc score corresponding to  65  is  76.74129353233832\n",
      "auc roc score corresponding to  66  is  78.46795434591746\n",
      "auc roc score corresponding to  67  is  81.70910155106819\n",
      "auc roc score corresponding to  68  is  77.50951126719345\n",
      "auc roc score corresponding to  69  is  78.93620134621013\n",
      "auc roc score corresponding to  70  is  81.17500731635937\n",
      "auc roc score corresponding to  71  is  78.98009950248756\n",
      "auc roc score corresponding to  72  is  79.70441908106527\n",
      "auc roc score corresponding to  73  is  78.4899034240562\n",
      "auc roc score corresponding to  74  is  80.47263681592041\n",
      "auc roc score corresponding to  75  is  84.4161545215101\n",
      "auc roc score corresponding to  76  is  78.46795434591746\n",
      "auc roc score corresponding to  77  is  81.2189054726368\n",
      "auc roc score corresponding to  78  is  80.70676031606672\n",
      "auc roc score corresponding to  79  is  81.66520339479075\n",
      "auc roc score corresponding to  80  is  81.70910155106819\n",
      "auc roc score corresponding to  81  is  80.45068773778168\n",
      "auc roc score corresponding to  82  is  77.76558384547849\n",
      "auc roc score corresponding to  83  is  80.72870939420544\n",
      "auc roc score corresponding to  84  is  75.22680714076675\n",
      "auc roc score corresponding to  85  is  76.48522095405326\n",
      "auc roc score corresponding to  86  is  80.21656423763534\n",
      "auc roc score corresponding to  87  is  75.9950248756219\n",
      "auc roc score corresponding to  88  is  74.99268364062043\n",
      "auc roc score corresponding to  89  is  81.43107989464443\n",
      "auc roc score corresponding to  90  is  70.02487562189053\n",
      "auc roc score corresponding to  91  is  79.70441908106527\n",
      "auc roc score corresponding to  92  is  78.25577992390987\n",
      "auc roc score corresponding to  93  is  80.68481123792802\n",
      "auc roc score corresponding to  94  is  77.48756218905471\n",
      "auc roc score corresponding to  95  is  81.24085455077554\n",
      "auc roc score corresponding to  96  is  79.68247000292654\n",
      "auc roc score corresponding to  97  is  78.51185250219491\n",
      "auc roc score corresponding to  98  is  78.98009950248756\n",
      "auc roc score corresponding to  99  is  80.68481123792802\n",
      "max auc roc score corresponding to  62  is  85.67456833479662\n"
     ]
    }
   ],
   "source": [
    "from sklearn.ensemble import RandomForestClassifier\n",
    "rf_c=RandomForestClassifier()\n",
    "R=max_aucroc_score(rf_c,X,Y)"
   ]
  },
  {
   "cell_type": "code",
   "execution_count": 295,
   "id": "18e32845",
   "metadata": {},
   "outputs": [
    {
     "name": "stdout",
     "output_type": "stream",
     "text": [
      "test accuracy is 76.8\n",
      "train accuracy is 98.0\n",
      "Confusion matrix \n",
      " [[92 19]\n",
      " [17 41]]\n",
      "f1 score is :  0.6949152542372882\n",
      "\n",
      "\n",
      "classification report \n",
      "               precision    recall  f1-score   support\n",
      "\n",
      "           0       0.84      0.83      0.84       111\n",
      "           1       0.68      0.71      0.69        58\n",
      "\n",
      "    accuracy                           0.79       169\n",
      "   macro avg       0.76      0.77      0.77       169\n",
      "weighted avg       0.79      0.79      0.79       169\n",
      "\n",
      "AUC ROC Score:  0.7678626902764834\n",
      "\n",
      "\n",
      "At cv is 2 cv score is 77.25  \n",
      " test accuracy is 76.8 \n",
      "\n",
      "At cv is 3 cv score is 79.62  \n",
      " test accuracy is 76.8 \n",
      "\n",
      "At cv is 4 cv score is 80.92  \n",
      " test accuracy is 76.8 \n",
      "\n",
      "At cv is 5 cv score is 80.93  \n",
      " test accuracy is 76.8 \n",
      "\n",
      "At cv is 6 cv score is 80.33  \n",
      " test accuracy is 76.8 \n",
      "\n",
      "At cv is 7 cv score is 81.76  \n",
      " test accuracy is 76.8 \n",
      "\n",
      "At cv is 8 cv score is 81.05  \n",
      " test accuracy is 76.8 \n",
      "\n",
      "At cv is 9 cv score is 80.69  \n",
      " test accuracy is 76.8 \n",
      "\n",
      "At cv is 10 cv score is 81.05  \n",
      " test accuracy is 76.8 \n",
      "\n",
      "At cv is 11 cv score is 81.17  \n",
      " test accuracy is 76.8 \n",
      "\n",
      "At cv is 12 cv score is 80.59  \n",
      " test accuracy is 76.8 \n",
      "\n",
      "At cv is 13 cv score is 81.4  \n",
      " test accuracy is 76.8 \n",
      "\n",
      "At cv is 14 cv score is 81.18  \n",
      " test accuracy is 76.8 \n",
      "\n",
      "At cv is 15 cv score is 80.94  \n",
      " test accuracy is 76.8 \n",
      "\n",
      "At cv is 16 cv score is 81.05  \n",
      " test accuracy is 76.8 \n",
      "\n",
      "At cv is 17 cv score is 80.23  \n",
      " test accuracy is 76.8 \n",
      "\n",
      "At cv is 18 cv score is 80.93  \n",
      " test accuracy is 76.8 \n",
      "\n",
      "At cv is 19 cv score is 81.29  \n",
      " test accuracy is 76.8 \n",
      "\n",
      "min diff between test accuracy and cv score  0.4511848341232252  at  2  max cv  81.75619834710743  at  7\n"
     ]
    }
   ],
   "source": [
    "x2_train,x2_test,y2_train,y2_test=train_test_split(X,Y,random_state=R,test_size=0.2)\n",
    "te_t(rf_c,x2_train,x2_test,y2_train,y2_test)\n",
    "print('\\n')\n",
    "score(rf_c,x2_train,x2_test,y2_train,y2_test)"
   ]
  },
  {
   "cell_type": "code",
   "execution_count": 296,
   "id": "27a00267",
   "metadata": {},
   "outputs": [
    {
     "name": "stdout",
     "output_type": "stream",
     "text": [
      "auc roc score corresponding to  0  is  80.00438981562775\n",
      "auc roc score corresponding to  1  is  75.78285045361429\n",
      "auc roc score corresponding to  2  is  81.66520339479075\n",
      "auc roc score corresponding to  3  is  73.26602282704127\n",
      "auc roc score corresponding to  4  is  80.94088381621305\n",
      "auc roc score corresponding to  5  is  80.19461515949664\n",
      "auc roc score corresponding to  6  is  78.21188176763243\n",
      "auc roc score corresponding to  7  is  78.95815042434884\n",
      "auc roc score corresponding to  8  is  81.43107989464443\n",
      "auc roc score corresponding to  9  is  79.19227392449517\n",
      "auc roc score corresponding to  10  is  80.68481123792802\n",
      "auc roc score corresponding to  11  is  76.97541703248463\n",
      "auc roc score corresponding to  12  is  73.3099209833187\n",
      "auc roc score corresponding to  13  is  77.20954053263097\n",
      "auc roc score corresponding to  14  is  71.23939127889962\n",
      "auc roc score corresponding to  15  is  82.45537020778461\n",
      "auc roc score corresponding to  16  is  74.99268364062043\n",
      "auc roc score corresponding to  17  is  72.2417325139011\n",
      "auc roc score corresponding to  18  is  75.9950248756219\n",
      "auc roc score corresponding to  19  is  80.64091308165057\n",
      "auc roc score corresponding to  20  is  74.97073456248171\n",
      "auc roc score corresponding to  21  is  80.68481123792802\n",
      "auc roc score corresponding to  22  is  76.22914837576822\n",
      "auc roc score corresponding to  23  is  72.2417325139011\n",
      "auc roc score corresponding to  24  is  80.68481123792802\n",
      "auc roc score corresponding to  25  is  77.23148961076967\n",
      "auc roc score corresponding to  26  is  74.29031314018145\n",
      "auc roc score corresponding to  27  is  76.71934445419959\n",
      "auc roc score corresponding to  28  is  80.96283289435176\n",
      "auc roc score corresponding to  29  is  75.50482879719051\n",
      "auc roc score corresponding to  30  is  82.17734855136084\n",
      "auc roc score corresponding to  31  is  78.42405618964004\n",
      "auc roc score corresponding to  32  is  78.98009950248756\n",
      "auc roc score corresponding to  33  is  79.25812115891132\n",
      "auc roc score corresponding to  34  is  79.44834650278021\n",
      "auc roc score corresponding to  35  is  77.91191103306994\n",
      "auc roc score corresponding to  36  is  76.25109745390694\n",
      "auc roc score corresponding to  37  is  78.72402692420252\n",
      "auc roc score corresponding to  38  is  78.23383084577115\n",
      "auc roc score corresponding to  39  is  81.19695639449812\n",
      "auc roc score corresponding to  40  is  79.17032484635644\n",
      "auc roc score corresponding to  41  is  77.46561311091601\n",
      "auc roc score corresponding to  42  is  77.69973661106233\n",
      "auc roc score corresponding to  43  is  79.44834650278021\n",
      "auc roc score corresponding to  44  is  77.95580918934738\n",
      "auc roc score corresponding to  45  is  78.95815042434884\n",
      "auc roc score corresponding to  46  is  75.71700321919812\n",
      "auc roc score corresponding to  47  is  76.46327187591456\n",
      "auc roc score corresponding to  48  is  78.72402692420252\n",
      "auc roc score corresponding to  49  is  80.94088381621305\n",
      "auc roc score corresponding to  50  is  80.42873865964295\n",
      "auc roc score corresponding to  51  is  77.44366403277729\n",
      "auc roc score corresponding to  52  is  72.81972490488732\n",
      "auc roc score corresponding to  53  is  74.73661106233537\n",
      "auc roc score corresponding to  54  is  79.70441908106527\n",
      "auc roc score corresponding to  55  is  79.72636815920399\n",
      "auc roc score corresponding to  56  is  75.97307579748318\n",
      "auc roc score corresponding to  57  is  76.20719929762949\n",
      "auc roc score corresponding to  58  is  76.48522095405326\n",
      "auc roc score corresponding to  59  is  77.23148961076967\n",
      "auc roc score corresponding to  60  is  80.23851331577406\n",
      "auc roc score corresponding to  61  is  78.23383084577115\n",
      "auc roc score corresponding to  62  is  80.96283289435176\n",
      "auc roc score corresponding to  63  is  75.71700321919812\n",
      "auc roc score corresponding to  64  is  78.95815042434884\n",
      "auc roc score corresponding to  65  is  72.51975417032484\n",
      "auc roc score corresponding to  66  is  76.5291191103307\n",
      "auc roc score corresponding to  67  is  81.7310506292069\n",
      "auc roc score corresponding to  68  is  75.01463271875915\n",
      "auc roc score corresponding to  69  is  72.51975417032484\n",
      "auc roc score corresponding to  70  is  80.42873865964295\n",
      "auc roc score corresponding to  71  is  75.24875621890547\n",
      "auc roc score corresponding to  72  is  77.72168568920105\n",
      "auc roc score corresponding to  73  is  80.45068773778168\n",
      "auc roc score corresponding to  74  is  77.72168568920105\n",
      "auc roc score corresponding to  75  is  79.42639742464151\n",
      "auc roc score corresponding to  76  is  78.21188176763243\n",
      "auc roc score corresponding to  77  is  78.02165642376355\n",
      "auc roc score corresponding to  78  is  77.97775826748608\n",
      "auc roc score corresponding to  79  is  79.72636815920399\n",
      "auc roc score corresponding to  80  is  79.44834650278021\n",
      "auc roc score corresponding to  81  is  78.21188176763243\n",
      "auc roc score corresponding to  82  is  81.45302897278314\n",
      "auc roc score corresponding to  83  is  79.44834650278021\n",
      "auc roc score corresponding to  84  is  71.75153643546972\n",
      "auc roc score corresponding to  85  is  75.73895229733685\n",
      "auc roc score corresponding to  86  is  78.4899034240562\n",
      "auc roc score corresponding to  87  is  72.28563067017852\n",
      "auc roc score corresponding to  88  is  74.246414983904\n",
      "auc roc score corresponding to  89  is  78.46795434591746\n",
      "auc roc score corresponding to  90  is  76.20719929762949\n",
      "auc roc score corresponding to  91  is  74.01229148375768\n",
      "auc roc score corresponding to  92  is  74.75856014047409\n",
      "auc roc score corresponding to  93  is  81.19695639449812\n",
      "auc roc score corresponding to  94  is  75.27070529704419\n",
      "auc roc score corresponding to  95  is  79.51419373719636\n",
      "auc roc score corresponding to  96  is  76.69739537606087\n",
      "auc roc score corresponding to  97  is  81.96517412935323\n",
      "auc roc score corresponding to  98  is  79.44834650278021\n",
      "auc roc score corresponding to  99  is  80.68481123792802\n",
      "max auc roc score corresponding to  15  is  82.45537020778461\n"
     ]
    }
   ],
   "source": [
    "from sklearn.neighbors import KNeighborsClassifier\n",
    "kc=KNeighborsClassifier()\n",
    "R=max_aucroc_score(kc,X,Y)"
   ]
  },
  {
   "cell_type": "code",
   "execution_count": 297,
   "id": "de449549",
   "metadata": {},
   "outputs": [
    {
     "name": "stdout",
     "output_type": "stream",
     "text": [
      "test accuracy is 78.4\n",
      "train accuracy is 83.6\n",
      "Confusion matrix \n",
      " [[87 14]\n",
      " [20 48]]\n",
      "f1 score is :  0.7384615384615385\n",
      "\n",
      "\n",
      "classification report \n",
      "               precision    recall  f1-score   support\n",
      "\n",
      "           0       0.81      0.86      0.84       101\n",
      "           1       0.77      0.71      0.74        68\n",
      "\n",
      "    accuracy                           0.80       169\n",
      "   macro avg       0.79      0.78      0.79       169\n",
      "weighted avg       0.80      0.80      0.80       169\n",
      "\n",
      "AUC ROC Score:  0.783634245777519\n",
      "\n",
      "\n",
      "At cv is 2 cv score is 78.79  \n",
      " test accuracy is 78.4 \n",
      "\n",
      "At cv is 3 cv score is 78.56  \n",
      " test accuracy is 78.4 \n",
      "\n",
      "At cv is 4 cv score is 79.98  \n",
      " test accuracy is 78.4 \n",
      "\n",
      "At cv is 5 cv score is 79.15  \n",
      " test accuracy is 78.4 \n",
      "\n",
      "At cv is 6 cv score is 79.74  \n",
      " test accuracy is 78.4 \n",
      "\n",
      "At cv is 7 cv score is 79.39  \n",
      " test accuracy is 78.4 \n",
      "\n",
      "At cv is 8 cv score is 80.46  \n",
      " test accuracy is 78.4 \n",
      "\n",
      "At cv is 9 cv score is 80.1  \n",
      " test accuracy is 78.4 \n",
      "\n",
      "At cv is 10 cv score is 79.99  \n",
      " test accuracy is 78.4 \n",
      "\n",
      "At cv is 11 cv score is 80.57  \n",
      " test accuracy is 78.4 \n",
      "\n",
      "At cv is 12 cv score is 80.35  \n",
      " test accuracy is 78.4 \n",
      "\n",
      "At cv is 13 cv score is 80.21  \n",
      " test accuracy is 78.4 \n",
      "\n",
      "At cv is 14 cv score is 79.99  \n",
      " test accuracy is 78.4 \n",
      "\n",
      "At cv is 15 cv score is 79.76  \n",
      " test accuracy is 78.4 \n",
      "\n",
      "At cv is 16 cv score is 80.21  \n",
      " test accuracy is 78.4 \n",
      "\n",
      "At cv is 17 cv score is 80.22  \n",
      " test accuracy is 78.4 \n",
      "\n",
      "At cv is 18 cv score is 80.69  \n",
      " test accuracy is 78.4 \n",
      "\n",
      "At cv is 19 cv score is 80.12  \n",
      " test accuracy is 78.4 \n",
      "\n",
      "min diff between test accuracy and cv score  0.15514331625485056  at  3  max cv  80.6866070510844  at  18\n"
     ]
    }
   ],
   "source": [
    "x3_train,x3_test,y3_train,y3_test=train_test_split(X,Y,random_state=R,test_size=0.2)\n",
    "te_t(kc,x3_train,x3_test,y3_train,y3_test)\n",
    "print('\\n')\n",
    "score(kc,x3_train,x3_test,y3_train,y3_test)"
   ]
  },
  {
   "cell_type": "code",
   "execution_count": 298,
   "id": "3f8be233",
   "metadata": {},
   "outputs": [
    {
     "name": "stdout",
     "output_type": "stream",
     "text": [
      "auc roc score corresponding to  0  is  80.9847819724905\n",
      "auc roc score corresponding to  1  is  82.41147205150718\n",
      "auc roc score corresponding to  2  is  76.69739537606087\n",
      "auc roc score corresponding to  3  is  75.46093064091308\n",
      "auc roc score corresponding to  4  is  82.41147205150718\n",
      "auc roc score corresponding to  5  is  83.1577407082236\n",
      "auc roc score corresponding to  6  is  79.19227392449517\n",
      "auc roc score corresponding to  7  is  79.91659350307287\n",
      "auc roc score corresponding to  8  is  83.13579163008488\n",
      "auc roc score corresponding to  9  is  79.70441908106527\n",
      "auc roc score corresponding to  10  is  79.70441908106527\n",
      "auc roc score corresponding to  11  is  76.97541703248463\n",
      "auc roc score corresponding to  12  is  81.43107989464443\n",
      "auc roc score corresponding to  13  is  78.16798361135498\n",
      "auc roc score corresponding to  14  is  77.20954053263097\n",
      "auc roc score corresponding to  15  is  82.94556628621598\n",
      "auc roc score corresponding to  16  is  76.46327187591456\n",
      "auc roc score corresponding to  17  is  76.90956979806847\n",
      "auc roc score corresponding to  18  is  77.46561311091601\n",
      "auc roc score corresponding to  19  is  78.93620134621013\n",
      "auc roc score corresponding to  20  is  78.68012876792507\n",
      "auc roc score corresponding to  21  is  78.21188176763243\n",
      "auc roc score corresponding to  22  is  78.1899326894937\n",
      "auc roc score corresponding to  23  is  79.14837576821773\n",
      "auc roc score corresponding to  24  is  84.37225636523266\n",
      "auc roc score corresponding to  25  is  81.17500731635937\n",
      "auc roc score corresponding to  26  is  77.48756218905471\n",
      "auc roc score corresponding to  27  is  83.1577407082236\n",
      "auc roc score corresponding to  28  is  83.92595844307873\n",
      "auc roc score corresponding to  29  is  78.68012876792507\n",
      "auc roc score corresponding to  30  is  83.64793678665497\n",
      "auc roc score corresponding to  31  is  80.1507170032192\n",
      "auc roc score corresponding to  32  is  82.92361720807725\n",
      "auc roc score corresponding to  33  is  84.18203102136377\n",
      "auc roc score corresponding to  34  is  80.40678958150424\n",
      "auc roc score corresponding to  35  is  80.64091308165057\n",
      "auc roc score corresponding to  36  is  77.95580918934738\n",
      "auc roc score corresponding to  37  is  79.42639742464151\n",
      "auc roc score corresponding to  38  is  82.6675446297922\n",
      "auc roc score corresponding to  39  is  77.72168568920105\n",
      "auc roc score corresponding to  40  is  76.9315188762072\n",
      "auc roc score corresponding to  41  is  82.6455955516535\n",
      "auc roc score corresponding to  42  is  77.93386011120867\n",
      "auc roc score corresponding to  43  is  77.95580918934738\n",
      "auc roc score corresponding to  44  is  81.68715247292947\n",
      "auc roc score corresponding to  45  is  80.17266608135792\n",
      "auc roc score corresponding to  46  is  75.95112671934446\n",
      "auc roc score corresponding to  47  is  77.6777875329236\n",
      "auc roc score corresponding to  48  is  80.66286215978928\n",
      "auc roc score corresponding to  49  is  80.17266608135792\n",
      "auc roc score corresponding to  50  is  78.44600526777874\n",
      "auc roc score corresponding to  51  is  82.1334503950834\n",
      "auc roc score corresponding to  52  is  77.72168568920105\n",
      "auc roc score corresponding to  53  is  76.95346795434592\n",
      "auc roc score corresponding to  54  is  81.13110916008193\n",
      "auc roc score corresponding to  55  is  84.39420544337138\n",
      "auc roc score corresponding to  56  is  81.4091308165057\n",
      "auc roc score corresponding to  57  is  77.6777875329236\n",
      "auc roc score corresponding to  58  is  79.93854258121158\n",
      "auc roc score corresponding to  59  is  81.66520339479075\n",
      "auc roc score corresponding to  60  is  83.6918349429324\n",
      "auc roc score corresponding to  61  is  84.65027802165642\n",
      "auc roc score corresponding to  62  is  84.65027802165642\n",
      "auc roc score corresponding to  63  is  79.17032484635644\n",
      "auc roc score corresponding to  64  is  82.90166812993853\n",
      "auc roc score corresponding to  65  is  78.44600526777874\n",
      "auc roc score corresponding to  66  is  77.97775826748608\n",
      "auc roc score corresponding to  67  is  75.73895229733685\n",
      "auc roc score corresponding to  68  is  76.71934445419959\n",
      "auc roc score corresponding to  69  is  77.93386011120867\n",
      "auc roc score corresponding to  70  is  81.17500731635937\n",
      "auc roc score corresponding to  71  is  81.15305823822067\n",
      "auc roc score corresponding to  72  is  78.7020778460638\n",
      "auc roc score corresponding to  73  is  81.17500731635937\n",
      "auc roc score corresponding to  74  is  79.93854258121158\n",
      "auc roc score corresponding to  75  is  82.4334211296459\n",
      "auc roc score corresponding to  76  is  82.90166812993853\n",
      "auc roc score corresponding to  77  is  81.43107989464443\n",
      "auc roc score corresponding to  78  is  78.93620134621013\n",
      "auc roc score corresponding to  79  is  82.41147205150718\n",
      "auc roc score corresponding to  80  is  83.90400936494001\n",
      "auc roc score corresponding to  81  is  80.66286215978928\n",
      "auc roc score corresponding to  82  is  80.91893473807433\n",
      "auc roc score corresponding to  83  is  84.6283289435177\n",
      "auc roc score corresponding to  84  is  77.18759145449224\n",
      "auc roc score corresponding to  85  is  76.46327187591456\n",
      "auc roc score corresponding to  86  is  81.47497805092186\n",
      "auc roc score corresponding to  87  is  75.97307579748318\n",
      "auc roc score corresponding to  88  is  76.20719929762949\n",
      "auc roc score corresponding to  89  is  78.42405618964004\n",
      "auc roc score corresponding to  90  is  76.18525021949077\n",
      "auc roc score corresponding to  91  is  77.72168568920105\n",
      "auc roc score corresponding to  92  is  76.0169739537606\n",
      "auc roc score corresponding to  93  is  81.43107989464443\n",
      "auc roc score corresponding to  94  is  78.7020778460638\n",
      "auc roc score corresponding to  95  is  84.18203102136377\n",
      "auc roc score corresponding to  96  is  80.42873865964295\n",
      "auc roc score corresponding to  97  is  83.43576236464736\n",
      "auc roc score corresponding to  98  is  84.39420544337138\n",
      "auc roc score corresponding to  99  is  81.15305823822067\n",
      "max auc roc score corresponding to  61  is  84.65027802165642\n"
     ]
    }
   ],
   "source": [
    "from sklearn.ensemble import GradientBoostingClassifier\n",
    "grad_c=GradientBoostingClassifier()\n",
    "R=max_aucroc_score(grad_c,X,Y)"
   ]
  },
  {
   "cell_type": "code",
   "execution_count": 299,
   "id": "027d651b",
   "metadata": {},
   "outputs": [
    {
     "name": "stdout",
     "output_type": "stream",
     "text": [
      "test accuracy is 80.6\n",
      "train accuracy is 90.2\n",
      "Confusion matrix \n",
      " [[93  8]\n",
      " [21 47]]\n",
      "f1 score is :  0.7642276422764227\n",
      "\n",
      "\n",
      "classification report \n",
      "               precision    recall  f1-score   support\n",
      "\n",
      "           0       0.82      0.92      0.87       101\n",
      "           1       0.85      0.69      0.76        68\n",
      "\n",
      "    accuracy                           0.83       169\n",
      "   macro avg       0.84      0.81      0.81       169\n",
      "weighted avg       0.83      0.83      0.82       169\n",
      "\n",
      "AUC ROC Score:  0.805984274898078\n",
      "\n",
      "\n",
      "At cv is 2 cv score is 81.04  \n",
      " test accuracy is 80.6 \n",
      "\n",
      "At cv is 3 cv score is 81.87  \n",
      " test accuracy is 80.6 \n",
      "\n",
      "At cv is 4 cv score is 83.18  \n",
      " test accuracy is 80.6 \n",
      "\n",
      "At cv is 5 cv score is 81.75  \n",
      " test accuracy is 80.6 \n",
      "\n",
      "At cv is 6 cv score is 82.58  \n",
      " test accuracy is 80.6 \n",
      "\n",
      "At cv is 7 cv score is 82.58  \n",
      " test accuracy is 80.6 \n",
      "\n",
      "At cv is 8 cv score is 83.53  \n",
      " test accuracy is 80.6 \n",
      "\n",
      "At cv is 9 cv score is 83.53  \n",
      " test accuracy is 80.6 \n",
      "\n",
      "At cv is 10 cv score is 83.06  \n",
      " test accuracy is 80.6 \n",
      "\n",
      "At cv is 11 cv score is 82.7  \n",
      " test accuracy is 80.6 \n",
      "\n",
      "At cv is 12 cv score is 82.83  \n",
      " test accuracy is 80.6 \n",
      "\n",
      "At cv is 13 cv score is 82.35  \n",
      " test accuracy is 80.6 \n",
      "\n",
      "At cv is 14 cv score is 82.72  \n",
      " test accuracy is 80.6 \n",
      "\n",
      "At cv is 15 cv score is 82.24  \n",
      " test accuracy is 80.6 \n",
      "\n",
      "At cv is 16 cv score is 82.22  \n",
      " test accuracy is 80.6 \n",
      "\n",
      "At cv is 17 cv score is 82.24  \n",
      " test accuracy is 80.6 \n",
      "\n",
      "At cv is 18 cv score is 83.06  \n",
      " test accuracy is 80.6 \n",
      "\n",
      "At cv is 19 cv score is 82.58  \n",
      " test accuracy is 80.6 \n",
      "\n",
      "min diff between test accuracy and cv score  0.4426540284360243  at  2  max cv  83.52987421383648  at  8\n"
     ]
    }
   ],
   "source": [
    "x4_train,x4_test,y4_train,y4_test=train_test_split(X,Y,random_state=R,test_size=0.2)\n",
    "te_t(grad_c,x4_train,x4_test,y4_train,y4_test)\n",
    "print('\\n')\n",
    "score(grad_c,x4_train,x4_test,y4_train,y4_test)"
   ]
  },
  {
   "cell_type": "code",
   "execution_count": 300,
   "id": "cb8e6c62",
   "metadata": {},
   "outputs": [
    {
     "name": "stdout",
     "output_type": "stream",
     "text": [
      "auc roc score corresponding to  0  is  79.2142230026339\n",
      "auc roc score corresponding to  1  is  79.93854258121158\n",
      "auc roc score corresponding to  2  is  78.68012876792507\n",
      "auc roc score corresponding to  3  is  78.44600526777874\n",
      "auc roc score corresponding to  4  is  80.68481123792802\n",
      "auc roc score corresponding to  5  is  82.41147205150718\n",
      "auc roc score corresponding to  6  is  80.91893473807433\n",
      "auc roc score corresponding to  7  is  80.91893473807433\n",
      "auc roc score corresponding to  8  is  80.42873865964295\n",
      "auc roc score corresponding to  9  is  80.19461515949664\n",
      "auc roc score corresponding to  10  is  79.44834650278021\n",
      "auc roc score corresponding to  11  is  78.21188176763243\n",
      "auc roc score corresponding to  12  is  78.98009950248756\n",
      "auc roc score corresponding to  13  is  76.67544629792215\n",
      "auc roc score corresponding to  14  is  78.1899326894937\n",
      "auc roc score corresponding to  15  is  82.94556628621598\n",
      "auc roc score corresponding to  16  is  77.95580918934738\n",
      "auc roc score corresponding to  17  is  75.46093064091308\n",
      "auc roc score corresponding to  18  is  79.93854258121158\n",
      "auc roc score corresponding to  19  is  77.18759145449224\n",
      "auc roc score corresponding to  20  is  79.68247000292654\n",
      "auc roc score corresponding to  21  is  80.19461515949664\n",
      "auc roc score corresponding to  22  is  82.17734855136084\n",
      "auc roc score corresponding to  23  is  77.93386011120867\n",
      "auc roc score corresponding to  24  is  83.13579163008488\n",
      "auc roc score corresponding to  25  is  80.42873865964295\n",
      "auc roc score corresponding to  26  is  75.73895229733685\n",
      "auc roc score corresponding to  27  is  79.70441908106527\n",
      "auc roc score corresponding to  28  is  84.90635059994148\n",
      "auc roc score corresponding to  29  is  76.74129353233832\n",
      "auc roc score corresponding to  30  is  82.4334211296459\n",
      "auc roc score corresponding to  31  is  79.91659350307287\n",
      "auc roc score corresponding to  32  is  85.39654667837284\n",
      "auc roc score corresponding to  33  is  82.4334211296459\n",
      "auc roc score corresponding to  34  is  79.19227392449517\n",
      "auc roc score corresponding to  35  is  78.93620134621013\n",
      "auc roc score corresponding to  36  is  80.19461515949664\n",
      "auc roc score corresponding to  37  is  80.17266608135792\n",
      "auc roc score corresponding to  38  is  80.45068773778168\n",
      "auc roc score corresponding to  39  is  79.47029558091894\n",
      "auc roc score corresponding to  40  is  78.95815042434884\n",
      "auc roc score corresponding to  41  is  81.89932689493708\n",
      "auc roc score corresponding to  42  is  78.44600526777874\n",
      "auc roc score corresponding to  43  is  79.19227392449517\n",
      "auc roc score corresponding to  44  is  80.47263681592041\n",
      "auc roc score corresponding to  45  is  77.93386011120867\n",
      "auc roc score corresponding to  46  is  75.4828797190518\n",
      "auc roc score corresponding to  47  is  81.89932689493708\n",
      "auc roc score corresponding to  48  is  78.44600526777874\n",
      "auc roc score corresponding to  49  is  82.6675446297922\n",
      "auc roc score corresponding to  50  is  85.88674275680421\n",
      "auc roc score corresponding to  51  is  83.62598770851625\n",
      "auc roc score corresponding to  52  is  80.96283289435176\n",
      "auc roc score corresponding to  53  is  71.75153643546972\n",
      "auc roc score corresponding to  54  is  78.68012876792507\n",
      "auc roc score corresponding to  55  is  82.90166812993853\n",
      "auc roc score corresponding to  56  is  79.93854258121158\n",
      "auc roc score corresponding to  57  is  78.16798361135498\n",
      "auc roc score corresponding to  58  is  80.42873865964295\n",
      "auc roc score corresponding to  59  is  78.95815042434884\n",
      "auc roc score corresponding to  60  is  81.70910155106819\n",
      "auc roc score corresponding to  61  is  81.43107989464443\n",
      "auc roc score corresponding to  62  is  83.41381328650863\n",
      "auc roc score corresponding to  63  is  78.42405618964004\n",
      "auc roc score corresponding to  64  is  83.39186420836991\n",
      "auc roc score corresponding to  65  is  78.7020778460638\n",
      "auc roc score corresponding to  66  is  78.7020778460638\n",
      "auc roc score corresponding to  67  is  80.70676031606672\n",
      "auc roc score corresponding to  68  is  79.70441908106527\n",
      "auc roc score corresponding to  69  is  78.44600526777874\n",
      "auc roc score corresponding to  70  is  81.17500731635937\n",
      "auc roc score corresponding to  71  is  79.44834650278021\n",
      "auc roc score corresponding to  72  is  79.70441908106527\n",
      "auc roc score corresponding to  73  is  81.43107989464443\n",
      "auc roc score corresponding to  74  is  80.94088381621305\n",
      "auc roc score corresponding to  75  is  82.90166812993853\n",
      "auc roc score corresponding to  76  is  82.15539947322213\n",
      "auc roc score corresponding to  77  is  86.14281533508927\n",
      "auc roc score corresponding to  78  is  83.64793678665497\n",
      "auc roc score corresponding to  79  is  77.72168568920105\n",
      "auc roc score corresponding to  80  is  84.4161545215101\n",
      "auc roc score corresponding to  81  is  80.45068773778168\n",
      "auc roc score corresponding to  82  is  82.90166812993853\n",
      "auc roc score corresponding to  83  is  81.43107989464443\n",
      "auc roc score corresponding to  84  is  77.18759145449224\n",
      "auc roc score corresponding to  85  is  75.97307579748318\n",
      "auc roc score corresponding to  86  is  81.19695639449812\n",
      "auc roc score corresponding to  87  is  78.68012876792507\n",
      "auc roc score corresponding to  88  is  80.17266608135792\n",
      "auc roc score corresponding to  89  is  78.7020778460638\n",
      "auc roc score corresponding to  90  is  81.38718173836699\n",
      "auc roc score corresponding to  91  is  75.46093064091308\n",
      "auc roc score corresponding to  92  is  78.23383084577115\n",
      "auc roc score corresponding to  93  is  81.17500731635937\n",
      "auc roc score corresponding to  94  is  78.7020778460638\n",
      "auc roc score corresponding to  95  is  82.68949370793092\n",
      "auc roc score corresponding to  96  is  77.44366403277729\n",
      "auc roc score corresponding to  97  is  79.70441908106527\n",
      "auc roc score corresponding to  98  is  84.39420544337138\n",
      "auc roc score corresponding to  99  is  79.68247000292654\n",
      "max auc roc score corresponding to  77  is  86.14281533508927\n"
     ]
    }
   ],
   "source": [
    "from sklearn.svm import SVC\n",
    "svc=SVC()\n",
    "R=max_aucroc_score(svc,X,Y)"
   ]
  },
  {
   "cell_type": "code",
   "execution_count": 301,
   "id": "0684f048",
   "metadata": {},
   "outputs": [
    {
     "name": "stdout",
     "output_type": "stream",
     "text": [
      "test accuracy is 80.5\n",
      "train accuracy is 80.6\n",
      "Confusion matrix \n",
      " [[90  9]\n",
      " [21 49]]\n",
      "f1 score is :  0.765625\n",
      "\n",
      "\n",
      "classification report \n",
      "               precision    recall  f1-score   support\n",
      "\n",
      "           0       0.81      0.91      0.86        99\n",
      "           1       0.84      0.70      0.77        70\n",
      "\n",
      "    accuracy                           0.82       169\n",
      "   macro avg       0.83      0.80      0.81       169\n",
      "weighted avg       0.82      0.82      0.82       169\n",
      "\n",
      "AUC ROC Score:  0.8045454545454546\n",
      "\n",
      "\n",
      "At cv is 2 cv score is 81.04  \n",
      " test accuracy is 80.5 \n",
      "\n",
      "At cv is 3 cv score is 82.23  \n",
      " test accuracy is 80.5 \n",
      "\n",
      "At cv is 4 cv score is 82.23  \n",
      " test accuracy is 80.5 \n",
      "\n",
      "At cv is 5 cv score is 82.23  \n",
      " test accuracy is 80.5 \n",
      "\n",
      "At cv is 6 cv score is 81.99  \n",
      " test accuracy is 80.5 \n",
      "\n",
      "At cv is 7 cv score is 81.99  \n",
      " test accuracy is 80.5 \n",
      "\n",
      "At cv is 8 cv score is 82.1  \n",
      " test accuracy is 80.5 \n",
      "\n",
      "At cv is 9 cv score is 82.11  \n",
      " test accuracy is 80.5 \n",
      "\n",
      "At cv is 10 cv score is 82.22  \n",
      " test accuracy is 80.5 \n",
      "\n",
      "At cv is 11 cv score is 82.11  \n",
      " test accuracy is 80.5 \n",
      "\n",
      "At cv is 12 cv score is 82.11  \n",
      " test accuracy is 80.5 \n",
      "\n",
      "At cv is 13 cv score is 82.0  \n",
      " test accuracy is 80.5 \n",
      "\n",
      "At cv is 14 cv score is 81.99  \n",
      " test accuracy is 80.5 \n",
      "\n",
      "At cv is 15 cv score is 82.11  \n",
      " test accuracy is 80.5 \n",
      "\n",
      "At cv is 16 cv score is 82.11  \n",
      " test accuracy is 80.5 \n",
      "\n",
      "At cv is 17 cv score is 82.23  \n",
      " test accuracy is 80.5 \n",
      "\n",
      "At cv is 18 cv score is 82.11  \n",
      " test accuracy is 80.5 \n",
      "\n",
      "At cv is 19 cv score is 82.21  \n",
      " test accuracy is 80.5 \n",
      "\n",
      "min diff between test accuracy and cv score  0.5426540284360186  at  2  max cv  82.23049219687874  at  17\n"
     ]
    }
   ],
   "source": [
    "x5_train,x5_test,y5_train,y5_test=train_test_split(X,Y,random_state=R,test_size=0.2)\n",
    "te_t(svc,x5_train,x5_test,y5_train,y5_test)\n",
    "print('\\n')\n",
    "score(svc,x5_train,x5_test,y5_train,y5_test)"
   ]
  },
  {
   "cell_type": "code",
   "execution_count": 302,
   "id": "94e2d79c",
   "metadata": {},
   "outputs": [],
   "source": [
    "from sklearn.metrics import roc_curve,auc\n",
    "area=[]"
   ]
  },
  {
   "cell_type": "code",
   "execution_count": 386,
   "id": "dc71f6a8",
   "metadata": {},
   "outputs": [
    {
     "name": "stdout",
     "output_type": "stream",
     "text": [
      "Area under the Decision Tree ROC curve : 0.765378\n"
     ]
    }
   ],
   "source": [
    "y_te=reg.predict(x1_test)\n",
    "fpr1,tpr1,threshold1=roc_curve(y_te,y1_test)\n",
    "roc_auc1= auc(fpr1, tpr1)\n",
    "area.append(roc_auc1)\n",
    "print(\"Area under the Decision Tree ROC curve : %f\" % roc_auc1)"
   ]
  },
  {
   "cell_type": "code",
   "execution_count": 387,
   "id": "260752d9",
   "metadata": {},
   "outputs": [
    {
     "name": "stdout",
     "output_type": "stream",
     "text": [
      "Area under the RF ROC curve : 0.763685\n"
     ]
    }
   ],
   "source": [
    "\n",
    "y_te=rf_c.predict(x2_test)\n",
    "fpr2,tpr2,threshold2=roc_curve(y_te,y2_test)\n",
    "roc_auc2= auc(fpr2, tpr2)\n",
    "area.append(roc_auc2)\n",
    "print(\"Area under the RF ROC curve : %f\" % roc_auc2)"
   ]
  },
  {
   "cell_type": "code",
   "execution_count": 388,
   "id": "72cb55cb",
   "metadata": {},
   "outputs": [
    {
     "name": "stdout",
     "output_type": "stream",
     "text": [
      "Area under the KNN ROC curve : 0.793639\n"
     ]
    }
   ],
   "source": [
    "y_te=kc.predict(x3_test)\n",
    "fpr3,tpr3,threshold3=roc_curve(y_te,y3_test)\n",
    "roc_auc3= auc(fpr3, tpr3)\n",
    "area.append(roc_auc3)\n",
    "print(\"Area under the KNN ROC curve : %f\" % roc_auc3)"
   ]
  },
  {
   "cell_type": "code",
   "execution_count": 389,
   "id": "877eb733",
   "metadata": {},
   "outputs": [
    {
     "name": "stdout",
     "output_type": "stream",
     "text": [
      "Area under the GRAD ROC curve : 0.835167\n"
     ]
    }
   ],
   "source": [
    "y_te=grad_c.predict(x4_test)\n",
    "fpr4,tpr4,threshold4=roc_curve(y_te,y4_test)\n",
    "roc_auc4= auc(fpr4, tpr4)\n",
    "area.append(roc_auc4)\n",
    "print(\"Area under the GRAD ROC curve : %f\" % roc_auc4)"
   ]
  },
  {
   "cell_type": "code",
   "execution_count": 390,
   "id": "a9e3489f",
   "metadata": {},
   "outputs": [
    {
     "name": "stdout",
     "output_type": "stream",
     "text": [
      "Area under the SVC ROC curve : 0.827819\n"
     ]
    }
   ],
   "source": [
    "y_te=svc.predict(x5_test)\n",
    "fpr5,tpr5,threshold5=roc_curve(y_te,y5_test)\n",
    "roc_auc5= auc(fpr5, tpr5)\n",
    "area.append(roc_auc5)\n",
    "print(\"Area under the SVC ROC curve : %f\" % roc_auc5)"
   ]
  },
  {
   "cell_type": "markdown",
   "id": "c215204c",
   "metadata": {},
   "source": [
    "#### Creating Table to store datas"
   ]
  },
  {
   "cell_type": "code",
   "execution_count": 308,
   "id": "8982fb9e",
   "metadata": {},
   "outputs": [],
   "source": [
    "aa=['DT','RF','KNN','GRAD','SVC']"
   ]
  },
  {
   "cell_type": "code",
   "execution_count": 309,
   "id": "84d921e2",
   "metadata": {},
   "outputs": [
    {
     "data": {
      "text/html": [
       "<div>\n",
       "<style scoped>\n",
       "    .dataframe tbody tr th:only-of-type {\n",
       "        vertical-align: middle;\n",
       "    }\n",
       "\n",
       "    .dataframe tbody tr th {\n",
       "        vertical-align: top;\n",
       "    }\n",
       "\n",
       "    .dataframe thead th {\n",
       "        text-align: right;\n",
       "    }\n",
       "</style>\n",
       "<table border=\"1\" class=\"dataframe\">\n",
       "  <thead>\n",
       "    <tr style=\"text-align: right;\">\n",
       "      <th></th>\n",
       "      <th>test accuracy</th>\n",
       "      <th>max_cv_score</th>\n",
       "      <th>diff(least cv_score-test accuracy)</th>\n",
       "      <th>mse</th>\n",
       "      <th>mae</th>\n",
       "      <th>F1 score</th>\n",
       "      <th>roc_curve_area</th>\n",
       "    </tr>\n",
       "  </thead>\n",
       "  <tbody>\n",
       "    <tr>\n",
       "      <th>DT</th>\n",
       "      <td>77.0</td>\n",
       "      <td>78.680368</td>\n",
       "      <td>0.024874</td>\n",
       "      <td>0.224852</td>\n",
       "      <td>0.224852</td>\n",
       "      <td>0.724638</td>\n",
       "      <td>0.765378</td>\n",
       "    </tr>\n",
       "    <tr>\n",
       "      <th>RF</th>\n",
       "      <td>76.8</td>\n",
       "      <td>81.756198</td>\n",
       "      <td>0.451185</td>\n",
       "      <td>0.213018</td>\n",
       "      <td>0.213018</td>\n",
       "      <td>0.694915</td>\n",
       "      <td>0.763685</td>\n",
       "    </tr>\n",
       "    <tr>\n",
       "      <th>KNN</th>\n",
       "      <td>78.4</td>\n",
       "      <td>80.686607</td>\n",
       "      <td>0.155143</td>\n",
       "      <td>0.201183</td>\n",
       "      <td>0.201183</td>\n",
       "      <td>0.738462</td>\n",
       "      <td>0.793639</td>\n",
       "    </tr>\n",
       "    <tr>\n",
       "      <th>GRAD</th>\n",
       "      <td>80.6</td>\n",
       "      <td>83.529874</td>\n",
       "      <td>0.442654</td>\n",
       "      <td>0.171598</td>\n",
       "      <td>0.171598</td>\n",
       "      <td>0.764228</td>\n",
       "      <td>0.835167</td>\n",
       "    </tr>\n",
       "    <tr>\n",
       "      <th>SVC</th>\n",
       "      <td>80.5</td>\n",
       "      <td>82.230492</td>\n",
       "      <td>0.542654</td>\n",
       "      <td>0.177515</td>\n",
       "      <td>0.177515</td>\n",
       "      <td>0.765625</td>\n",
       "      <td>0.827819</td>\n",
       "    </tr>\n",
       "  </tbody>\n",
       "</table>\n",
       "</div>"
      ],
      "text/plain": [
       "      test accuracy  max_cv_score  diff(least cv_score-test accuracy)  \\\n",
       "DT             77.0     78.680368                            0.024874   \n",
       "RF             76.8     81.756198                            0.451185   \n",
       "KNN            78.4     80.686607                            0.155143   \n",
       "GRAD           80.6     83.529874                            0.442654   \n",
       "SVC            80.5     82.230492                            0.542654   \n",
       "\n",
       "           mse       mae  F1 score  roc_curve_area  \n",
       "DT    0.224852  0.224852  0.724638        0.765378  \n",
       "RF    0.213018  0.213018  0.694915        0.763685  \n",
       "KNN   0.201183  0.201183  0.738462        0.793639  \n",
       "GRAD  0.171598  0.171598  0.764228        0.835167  \n",
       "SVC   0.177515  0.177515  0.765625        0.827819  "
      ]
     },
     "execution_count": 309,
     "metadata": {},
     "output_type": "execute_result"
    }
   ],
   "source": [
    "kk=pd.DataFrame({'test accuracy':A,'max_cv_score': B,'diff(least cv_score-test accuracy)':D,'mse':C,'mae':mae,'F1 score':E,'roc_curve_area':area},index=aa)\n",
    "kk"
   ]
  },
  {
   "cell_type": "code",
   "execution_count": 310,
   "id": "c14f9e45",
   "metadata": {},
   "outputs": [
    {
     "data": {
      "image/png": "[encoded data removed]",
      "text/plain": [
       "<Figure size 1440x1080 with 1 Axes>"
      ]
     },
     "metadata": {
      "needs_background": "light"
     },
     "output_type": "display_data"
    }
   ],
   "source": [
    "plt.figure(figsize = (20,15))\n",
    "\n",
    "plt.plot(fpr1, tpr1, label = 'ROC curve for DT (area = %0.2f)' % roc_auc1)\n",
    "plt.plot(fpr2, tpr2, label = 'ROC curve for RF (area = %0.2f)' % roc_auc2)\n",
    "plt.plot(fpr3, tpr3, label = 'ROC curve for KNN (area = %0.2f)' % roc_auc3)\n",
    "plt.plot(fpr4, tpr4, label = 'ROC curve for GRAD (area = %0.2f)' % roc_auc4)\n",
    "plt.plot(fpr5, tpr5, label = 'ROC curve for svc (area = %0.2f)' % roc_auc5)\n",
    "\n",
    "plt.plot([0, 1], [0, 1], [0, 1], [0, 1], 'k--')\n",
    "plt.xlim([0.0, 1.0])\n",
    "plt.ylim([0.0, 1.0])\n",
    "plt.xlabel('False Positive Rate')\n",
    "plt.ylabel('True Positive Rate')\n",
    "plt.title('Receiverrating characteristic example')\n",
    "plt.legend(loc = 'lower right', fontsize = 20)\n",
    "plt.grid(True)\n",
    "plt.show()"
   ]
  },
  {
   "cell_type": "markdown",
   "id": "d067a1af",
   "metadata": {},
   "source": [
    "#### Infernce"
   ]
  },
  {
   "cell_type": "markdown",
   "id": "d58b92a7",
   "metadata": {},
   "source": [
    "- GradientBoostingClassifier is the best model\n",
    "    - Highest test accuracy\n",
    "    - Higest cv_score\n",
    "    - 3rd highest differnce in difference between cv_Score and test accuracy\n",
    "    - least error in mae and mse\n",
    "    - second highest F1 score\n",
    "    - highest area under Roc_auc curve\n",
    "       "
   ]
  },
  {
   "cell_type": "markdown",
   "id": "2b0fc4dd",
   "metadata": {},
   "source": [
    "#### Hyper paramter tuning"
   ]
  },
  {
   "cell_type": "code",
   "execution_count": 311,
   "id": "4ee98dcf",
   "metadata": {},
   "outputs": [],
   "source": [
    "from sklearn.model_selection import GridSearchCV"
   ]
  },
  {
   "cell_type": "code",
   "execution_count": 350,
   "id": "b0a6c3fe",
   "metadata": {},
   "outputs": [],
   "source": [
    "par={'loss':[ 'log_loss', 'deviance', 'exponential'],\n",
    "     'learning_rate':[0.08,0.09,0.095,0.1,0.2,0.3,0.5,0.6,0.8,1,10],\n",
    "     'criterion':['friedman_mse','mse'],\n",
    "     'n_estimators':[10,50,70,80,90,100,150,200,250,300,350,400],\n",
    "     'max_features' : ['auto', 'sqrt', 'log2']\n",
    "}"
   ]
  },
  {
   "cell_type": "code",
   "execution_count": 351,
   "id": "712d5a93",
   "metadata": {},
   "outputs": [
    {
     "data": {
      "text/plain": [
       "{'criterion': 'friedman_mse',\n",
       " 'learning_rate': 0.2,\n",
       " 'loss': 'exponential',\n",
       " 'max_features': 'log2',\n",
       " 'n_estimators': 90}"
      ]
     },
     "execution_count": 351,
     "metadata": {},
     "output_type": "execute_result"
    }
   ],
   "source": [
    "grid=GridSearchCV(grad_c,par,cv=3)\n",
    "grid.fit(x4_train,y4_train)\n",
    "grid.best_params_"
   ]
  },
  {
   "cell_type": "code",
   "execution_count": 377,
   "id": "8e4c8f4e",
   "metadata": {
    "scrolled": true
   },
   "outputs": [
    {
     "name": "stdout",
     "output_type": "stream",
     "text": [
      "82.6\n"
     ]
    }
   ],
   "source": [
    "grad=GradientBoostingClassifier( criterion= 'friedman_mse', learning_rate= 0.2, loss= 'exponential', max_features= 'log2', n_estimators= 90)\n",
    "grad.fit(x4_train,y4_train)\n",
    "y_te=grad.predict(x4_test)\n",
    "r2=round(roc_auc_score(y4_test,y_te)*100,1)\n",
    "print(r2)"
   ]
  },
  {
   "cell_type": "code",
   "execution_count": 378,
   "id": "c7333cbc",
   "metadata": {},
   "outputs": [
    {
     "name": "stdout",
     "output_type": "stream",
     "text": [
      "82.46594819245686\n"
     ]
    }
   ],
   "source": [
    "cv_score=cross_val_score(grad,X,Y,cv=3)\n",
    "cv_mean=cv_score.mean()*100\n",
    "print(cv_mean)"
   ]
  },
  {
   "cell_type": "code",
   "execution_count": 379,
   "id": "4063aef4",
   "metadata": {},
   "outputs": [
    {
     "name": "stdout",
     "output_type": "stream",
     "text": [
      "Confusion matrix \n",
      " [[94  7]\n",
      " [19 49]]\n"
     ]
    }
   ],
   "source": [
    " print(\"Confusion matrix \\n\",confusion_matrix(y4_test,y_te))"
   ]
  },
  {
   "cell_type": "code",
   "execution_count": 383,
   "id": "015c7555",
   "metadata": {},
   "outputs": [
    {
     "name": "stdout",
     "output_type": "stream",
     "text": [
      "classification report \n",
      "               precision    recall  f1-score   support\n",
      "\n",
      "           0       0.83      0.93      0.88       101\n",
      "           1       0.88      0.72      0.79        68\n",
      "\n",
      "    accuracy                           0.85       169\n",
      "   macro avg       0.85      0.83      0.83       169\n",
      "weighted avg       0.85      0.85      0.84       169\n",
      "\n",
      "AUC ROC Score:  0.83\n"
     ]
    }
   ],
   "source": [
    "print(\"classification report \\n\",classification_report(y4_test,y_te))\n",
    "print(\"AUC ROC Score: \",round(roc_auc_score(y4_test,y_te),2))"
   ]
  },
  {
   "cell_type": "markdown",
   "id": "c955975b",
   "metadata": {},
   "source": [
    "- After tuning the accuracy increaed from 80.6 to 82.6\n",
    "- the difference between the test accuracy and cv_score is aprox 0.1\n",
    "- the FN rate has decreased, FN means person is alive but predicted dead \n",
    "- The accuracy has increased"
   ]
  },
  {
   "cell_type": "markdown",
   "id": "3e82cbdd",
   "metadata": {},
   "source": [
    "#### Storing model and loading it"
   ]
  },
  {
   "cell_type": "code",
   "execution_count": 391,
   "id": "b0d09448",
   "metadata": {},
   "outputs": [],
   "source": [
    "import pickle\n",
    "filename='titanic.pkl'\n",
    "pickle.dump(grad,open(filename,'wb'))"
   ]
  },
  {
   "cell_type": "code",
   "execution_count": 392,
   "id": "3abb2bfc",
   "metadata": {},
   "outputs": [
    {
     "name": "stdout",
     "output_type": "stream",
     "text": [
      "84.61538461538461\n"
     ]
    }
   ],
   "source": [
    "l_m=pickle.load(open('titanic.pkl','rb'))\n",
    "re=l_m.score(x4_test,y4_test)\n",
    "print(re*100)"
   ]
  },
  {
   "cell_type": "code",
   "execution_count": null,
   "id": "eb275e96",
   "metadata": {},
   "outputs": [],
   "source": []
  }
 ],
 "metadata": {
  "kernelspec": {
   "display_name": "Python 3 (ipykernel)",
   "language": "python",
   "name": "python3"
  },
  "language_info": {
   "codemirror_mode": {
    "name": "ipython",
    "version": 3
   },
   "file_extension": ".py",
   "mimetype": "text/x-python",
   "name": "python",
   "nbconvert_exporter": "python",
   "pygments_lexer": "ipython3",
   "version": "3.9.7"
  }
 },
 "nbformat": 4,
 "nbformat_minor": 5
}
